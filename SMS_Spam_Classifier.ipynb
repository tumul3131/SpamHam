{
 "cells": [
  {
   "cell_type": "code",
   "execution_count": 1,
   "id": "fa262a93",
   "metadata": {},
   "outputs": [],
   "source": [
    "import numpy as np\n",
    "import pandas as pd"
   ]
  },
  {
   "cell_type": "code",
   "execution_count": 2,
   "id": "8530b01f",
   "metadata": {},
   "outputs": [],
   "source": [
    "df=pd.read_csv('spam.csv',encoding='latin1')"
   ]
  },
  {
   "cell_type": "code",
   "execution_count": 3,
   "id": "3a9201f1",
   "metadata": {},
   "outputs": [
    {
     "data": {
      "text/html": [
       "<div>\n",
       "<style scoped>\n",
       "    .dataframe tbody tr th:only-of-type {\n",
       "        vertical-align: middle;\n",
       "    }\n",
       "\n",
       "    .dataframe tbody tr th {\n",
       "        vertical-align: top;\n",
       "    }\n",
       "\n",
       "    .dataframe thead th {\n",
       "        text-align: right;\n",
       "    }\n",
       "</style>\n",
       "<table border=\"1\" class=\"dataframe\">\n",
       "  <thead>\n",
       "    <tr style=\"text-align: right;\">\n",
       "      <th></th>\n",
       "      <th>v1</th>\n",
       "      <th>v2</th>\n",
       "      <th>Unnamed: 2</th>\n",
       "      <th>Unnamed: 3</th>\n",
       "      <th>Unnamed: 4</th>\n",
       "    </tr>\n",
       "  </thead>\n",
       "  <tbody>\n",
       "    <tr>\n",
       "      <th>0</th>\n",
       "      <td>ham</td>\n",
       "      <td>Go until jurong point, crazy.. Available only ...</td>\n",
       "      <td>NaN</td>\n",
       "      <td>NaN</td>\n",
       "      <td>NaN</td>\n",
       "    </tr>\n",
       "    <tr>\n",
       "      <th>1</th>\n",
       "      <td>ham</td>\n",
       "      <td>Ok lar... Joking wif u oni...</td>\n",
       "      <td>NaN</td>\n",
       "      <td>NaN</td>\n",
       "      <td>NaN</td>\n",
       "    </tr>\n",
       "    <tr>\n",
       "      <th>2</th>\n",
       "      <td>spam</td>\n",
       "      <td>Free entry in 2 a wkly comp to win FA Cup fina...</td>\n",
       "      <td>NaN</td>\n",
       "      <td>NaN</td>\n",
       "      <td>NaN</td>\n",
       "    </tr>\n",
       "    <tr>\n",
       "      <th>3</th>\n",
       "      <td>ham</td>\n",
       "      <td>U dun say so early hor... U c already then say...</td>\n",
       "      <td>NaN</td>\n",
       "      <td>NaN</td>\n",
       "      <td>NaN</td>\n",
       "    </tr>\n",
       "    <tr>\n",
       "      <th>4</th>\n",
       "      <td>ham</td>\n",
       "      <td>Nah I don't think he goes to usf, he lives aro...</td>\n",
       "      <td>NaN</td>\n",
       "      <td>NaN</td>\n",
       "      <td>NaN</td>\n",
       "    </tr>\n",
       "  </tbody>\n",
       "</table>\n",
       "</div>"
      ],
      "text/plain": [
       "     v1                                                 v2 Unnamed: 2  \\\n",
       "0   ham  Go until jurong point, crazy.. Available only ...        NaN   \n",
       "1   ham                      Ok lar... Joking wif u oni...        NaN   \n",
       "2  spam  Free entry in 2 a wkly comp to win FA Cup fina...        NaN   \n",
       "3   ham  U dun say so early hor... U c already then say...        NaN   \n",
       "4   ham  Nah I don't think he goes to usf, he lives aro...        NaN   \n",
       "\n",
       "  Unnamed: 3 Unnamed: 4  \n",
       "0        NaN        NaN  \n",
       "1        NaN        NaN  \n",
       "2        NaN        NaN  \n",
       "3        NaN        NaN  \n",
       "4        NaN        NaN  "
      ]
     },
     "execution_count": 3,
     "metadata": {},
     "output_type": "execute_result"
    }
   ],
   "source": [
    "df.head()"
   ]
  },
  {
   "cell_type": "code",
   "execution_count": 4,
   "id": "65b54920",
   "metadata": {},
   "outputs": [
    {
     "data": {
      "text/plain": [
       "(5572, 5)"
      ]
     },
     "execution_count": 4,
     "metadata": {},
     "output_type": "execute_result"
    }
   ],
   "source": [
    "df.shape"
   ]
  },
  {
   "cell_type": "markdown",
   "id": "4648d6c6",
   "metadata": {},
   "source": [
    "#### We have 5 columns and 5000+ messages"
   ]
  },
  {
   "cell_type": "markdown",
   "id": "06077dd9",
   "metadata": {},
   "source": [
    "#### Tasks to be performed:\n",
    "1. Data Cleaning\n",
    "2. EDA (Exploratory data analysis)\n",
    "3. Text Preprocessing\n",
    "4. Model building\n",
    "5. Evaluation\n",
    "6. Improvement\n",
    "7. Website\n",
    "8. Deploy"
   ]
  },
  {
   "cell_type": "markdown",
   "id": "f3d8f65b",
   "metadata": {},
   "source": [
    "## 1. DATA CLEANING"
   ]
  },
  {
   "cell_type": "code",
   "execution_count": 5,
   "id": "ee248db9",
   "metadata": {},
   "outputs": [
    {
     "name": "stdout",
     "output_type": "stream",
     "text": [
      "<class 'pandas.core.frame.DataFrame'>\n",
      "RangeIndex: 5572 entries, 0 to 5571\n",
      "Data columns (total 5 columns):\n",
      " #   Column      Non-Null Count  Dtype \n",
      "---  ------      --------------  ----- \n",
      " 0   v1          5572 non-null   object\n",
      " 1   v2          5572 non-null   object\n",
      " 2   Unnamed: 2  50 non-null     object\n",
      " 3   Unnamed: 3  12 non-null     object\n",
      " 4   Unnamed: 4  6 non-null      object\n",
      "dtypes: object(5)\n",
      "memory usage: 217.8+ KB\n"
     ]
    }
   ],
   "source": [
    "df.info()"
   ]
  },
  {
   "cell_type": "code",
   "execution_count": 6,
   "id": "395be719",
   "metadata": {},
   "outputs": [],
   "source": [
    "# We will drop last 3 columns\n",
    "df.drop(columns=['Unnamed: 2','Unnamed: 3','Unnamed: 4'],inplace=True)\n",
    "#As it is a peramanet operation inplace will be equal to true"
   ]
  },
  {
   "cell_type": "code",
   "execution_count": 7,
   "id": "9407e80b",
   "metadata": {},
   "outputs": [],
   "source": [
    "#Renaming the first two columns\n",
    "df.rename(columns={'v1':'target','v2':'text'},inplace=True)"
   ]
  },
  {
   "cell_type": "code",
   "execution_count": 8,
   "id": "a48e4a41",
   "metadata": {},
   "outputs": [
    {
     "name": "stdout",
     "output_type": "stream",
     "text": [
      "<class 'pandas.core.frame.DataFrame'>\n",
      "RangeIndex: 5572 entries, 0 to 5571\n",
      "Data columns (total 2 columns):\n",
      " #   Column  Non-Null Count  Dtype \n",
      "---  ------  --------------  ----- \n",
      " 0   target  5572 non-null   object\n",
      " 1   text    5572 non-null   object\n",
      "dtypes: object(2)\n",
      "memory usage: 87.2+ KB\n"
     ]
    }
   ],
   "source": [
    "df.info()"
   ]
  },
  {
   "cell_type": "code",
   "execution_count": 9,
   "id": "68b729e6",
   "metadata": {},
   "outputs": [
    {
     "data": {
      "text/html": [
       "<div>\n",
       "<style scoped>\n",
       "    .dataframe tbody tr th:only-of-type {\n",
       "        vertical-align: middle;\n",
       "    }\n",
       "\n",
       "    .dataframe tbody tr th {\n",
       "        vertical-align: top;\n",
       "    }\n",
       "\n",
       "    .dataframe thead th {\n",
       "        text-align: right;\n",
       "    }\n",
       "</style>\n",
       "<table border=\"1\" class=\"dataframe\">\n",
       "  <thead>\n",
       "    <tr style=\"text-align: right;\">\n",
       "      <th></th>\n",
       "      <th>target</th>\n",
       "      <th>text</th>\n",
       "    </tr>\n",
       "  </thead>\n",
       "  <tbody>\n",
       "    <tr>\n",
       "      <th>0</th>\n",
       "      <td>ham</td>\n",
       "      <td>Go until jurong point, crazy.. Available only ...</td>\n",
       "    </tr>\n",
       "    <tr>\n",
       "      <th>1</th>\n",
       "      <td>ham</td>\n",
       "      <td>Ok lar... Joking wif u oni...</td>\n",
       "    </tr>\n",
       "    <tr>\n",
       "      <th>2</th>\n",
       "      <td>spam</td>\n",
       "      <td>Free entry in 2 a wkly comp to win FA Cup fina...</td>\n",
       "    </tr>\n",
       "    <tr>\n",
       "      <th>3</th>\n",
       "      <td>ham</td>\n",
       "      <td>U dun say so early hor... U c already then say...</td>\n",
       "    </tr>\n",
       "    <tr>\n",
       "      <th>4</th>\n",
       "      <td>ham</td>\n",
       "      <td>Nah I don't think he goes to usf, he lives aro...</td>\n",
       "    </tr>\n",
       "  </tbody>\n",
       "</table>\n",
       "</div>"
      ],
      "text/plain": [
       "  target                                               text\n",
       "0    ham  Go until jurong point, crazy.. Available only ...\n",
       "1    ham                      Ok lar... Joking wif u oni...\n",
       "2   spam  Free entry in 2 a wkly comp to win FA Cup fina...\n",
       "3    ham  U dun say so early hor... U c already then say...\n",
       "4    ham  Nah I don't think he goes to usf, he lives aro..."
      ]
     },
     "execution_count": 9,
     "metadata": {},
     "output_type": "execute_result"
    }
   ],
   "source": [
    "df.head()"
   ]
  },
  {
   "cell_type": "code",
   "execution_count": 10,
   "id": "d45eabcb",
   "metadata": {},
   "outputs": [],
   "source": [
    "# We will encode spam and ham as 1 and 0.\n",
    "from sklearn.preprocessing import LabelEncoder\n",
    "encoder=LabelEncoder()"
   ]
  },
  {
   "cell_type": "code",
   "execution_count": 11,
   "id": "67a9849a",
   "metadata": {},
   "outputs": [],
   "source": [
    "df['target']=encoder.fit_transform(df['target'])"
   ]
  },
  {
   "cell_type": "code",
   "execution_count": 12,
   "id": "0931fa04",
   "metadata": {},
   "outputs": [
    {
     "data": {
      "text/html": [
       "<div>\n",
       "<style scoped>\n",
       "    .dataframe tbody tr th:only-of-type {\n",
       "        vertical-align: middle;\n",
       "    }\n",
       "\n",
       "    .dataframe tbody tr th {\n",
       "        vertical-align: top;\n",
       "    }\n",
       "\n",
       "    .dataframe thead th {\n",
       "        text-align: right;\n",
       "    }\n",
       "</style>\n",
       "<table border=\"1\" class=\"dataframe\">\n",
       "  <thead>\n",
       "    <tr style=\"text-align: right;\">\n",
       "      <th></th>\n",
       "      <th>target</th>\n",
       "      <th>text</th>\n",
       "    </tr>\n",
       "  </thead>\n",
       "  <tbody>\n",
       "    <tr>\n",
       "      <th>0</th>\n",
       "      <td>0</td>\n",
       "      <td>Go until jurong point, crazy.. Available only ...</td>\n",
       "    </tr>\n",
       "    <tr>\n",
       "      <th>1</th>\n",
       "      <td>0</td>\n",
       "      <td>Ok lar... Joking wif u oni...</td>\n",
       "    </tr>\n",
       "    <tr>\n",
       "      <th>2</th>\n",
       "      <td>1</td>\n",
       "      <td>Free entry in 2 a wkly comp to win FA Cup fina...</td>\n",
       "    </tr>\n",
       "    <tr>\n",
       "      <th>3</th>\n",
       "      <td>0</td>\n",
       "      <td>U dun say so early hor... U c already then say...</td>\n",
       "    </tr>\n",
       "    <tr>\n",
       "      <th>4</th>\n",
       "      <td>0</td>\n",
       "      <td>Nah I don't think he goes to usf, he lives aro...</td>\n",
       "    </tr>\n",
       "  </tbody>\n",
       "</table>\n",
       "</div>"
      ],
      "text/plain": [
       "   target                                               text\n",
       "0       0  Go until jurong point, crazy.. Available only ...\n",
       "1       0                      Ok lar... Joking wif u oni...\n",
       "2       1  Free entry in 2 a wkly comp to win FA Cup fina...\n",
       "3       0  U dun say so early hor... U c already then say...\n",
       "4       0  Nah I don't think he goes to usf, he lives aro..."
      ]
     },
     "execution_count": 12,
     "metadata": {},
     "output_type": "execute_result"
    }
   ],
   "source": [
    "df.head()"
   ]
  },
  {
   "cell_type": "markdown",
   "id": "d53bb707",
   "metadata": {},
   "source": [
    "#### Ham is encoded as 0 and spam as 1."
   ]
  },
  {
   "cell_type": "code",
   "execution_count": 13,
   "id": "3e3282b2",
   "metadata": {},
   "outputs": [
    {
     "data": {
      "text/plain": [
       "target    0\n",
       "text      0\n",
       "dtype: int64"
      ]
     },
     "execution_count": 13,
     "metadata": {},
     "output_type": "execute_result"
    }
   ],
   "source": [
    "#Checking Missing Calues\n",
    "df.isnull().sum()"
   ]
  },
  {
   "cell_type": "code",
   "execution_count": 14,
   "id": "04c84c89",
   "metadata": {},
   "outputs": [
    {
     "data": {
      "text/plain": [
       "403"
      ]
     },
     "execution_count": 14,
     "metadata": {},
     "output_type": "execute_result"
    }
   ],
   "source": [
    "#Check for duplicate values\n",
    "df.duplicated().sum()"
   ]
  },
  {
   "cell_type": "code",
   "execution_count": 15,
   "id": "0ccf2e53",
   "metadata": {},
   "outputs": [],
   "source": [
    "#Removing duplicates from df\n",
    "df=df.drop_duplicates(keep='first')"
   ]
  },
  {
   "cell_type": "code",
   "execution_count": 16,
   "id": "b0773416",
   "metadata": {},
   "outputs": [
    {
     "data": {
      "text/plain": [
       "(5169, 2)"
      ]
     },
     "execution_count": 16,
     "metadata": {},
     "output_type": "execute_result"
    }
   ],
   "source": [
    "df.shape"
   ]
  },
  {
   "cell_type": "code",
   "execution_count": 17,
   "id": "742f2588",
   "metadata": {},
   "outputs": [
    {
     "data": {
      "text/html": [
       "<div>\n",
       "<style scoped>\n",
       "    .dataframe tbody tr th:only-of-type {\n",
       "        vertical-align: middle;\n",
       "    }\n",
       "\n",
       "    .dataframe tbody tr th {\n",
       "        vertical-align: top;\n",
       "    }\n",
       "\n",
       "    .dataframe thead th {\n",
       "        text-align: right;\n",
       "    }\n",
       "</style>\n",
       "<table border=\"1\" class=\"dataframe\">\n",
       "  <thead>\n",
       "    <tr style=\"text-align: right;\">\n",
       "      <th></th>\n",
       "      <th>target</th>\n",
       "      <th>text</th>\n",
       "    </tr>\n",
       "  </thead>\n",
       "  <tbody>\n",
       "    <tr>\n",
       "      <th>0</th>\n",
       "      <td>0</td>\n",
       "      <td>Go until jurong point, crazy.. Available only ...</td>\n",
       "    </tr>\n",
       "    <tr>\n",
       "      <th>1</th>\n",
       "      <td>0</td>\n",
       "      <td>Ok lar... Joking wif u oni...</td>\n",
       "    </tr>\n",
       "    <tr>\n",
       "      <th>2</th>\n",
       "      <td>1</td>\n",
       "      <td>Free entry in 2 a wkly comp to win FA Cup fina...</td>\n",
       "    </tr>\n",
       "    <tr>\n",
       "      <th>3</th>\n",
       "      <td>0</td>\n",
       "      <td>U dun say so early hor... U c already then say...</td>\n",
       "    </tr>\n",
       "    <tr>\n",
       "      <th>4</th>\n",
       "      <td>0</td>\n",
       "      <td>Nah I don't think he goes to usf, he lives aro...</td>\n",
       "    </tr>\n",
       "  </tbody>\n",
       "</table>\n",
       "</div>"
      ],
      "text/plain": [
       "   target                                               text\n",
       "0       0  Go until jurong point, crazy.. Available only ...\n",
       "1       0                      Ok lar... Joking wif u oni...\n",
       "2       1  Free entry in 2 a wkly comp to win FA Cup fina...\n",
       "3       0  U dun say so early hor... U c already then say...\n",
       "4       0  Nah I don't think he goes to usf, he lives aro..."
      ]
     },
     "execution_count": 17,
     "metadata": {},
     "output_type": "execute_result"
    }
   ],
   "source": [
    "df.head()"
   ]
  },
  {
   "cell_type": "markdown",
   "id": "f4b8ae57",
   "metadata": {},
   "source": [
    "## 2. EDA"
   ]
  },
  {
   "cell_type": "code",
   "execution_count": 18,
   "id": "382bf293",
   "metadata": {},
   "outputs": [
    {
     "data": {
      "text/plain": [
       "target\n",
       "0    4516\n",
       "1     653\n",
       "Name: count, dtype: int64"
      ]
     },
     "execution_count": 18,
     "metadata": {},
     "output_type": "execute_result"
    }
   ],
   "source": [
    "#Let's Check the ratio of spam and ham in dataframe\n",
    "df['target'].value_counts()"
   ]
  },
  {
   "cell_type": "code",
   "execution_count": 19,
   "id": "3104a720",
   "metadata": {},
   "outputs": [
    {
     "data": {
      "image/png": "[encoded data removed]",
      "text/plain": [
       "<Figure size 640x480 with 1 Axes>"
      ]
     },
     "metadata": {},
     "output_type": "display_data"
    }
   ],
   "source": [
    "import matplotlib.pyplot as plt\n",
    "plt.pie(df['target'].value_counts(),labels=['ham','spam'],autopct=\"%0.2f\")\n",
    "plt.show()"
   ]
  },
  {
   "cell_type": "markdown",
   "id": "ce484814",
   "metadata": {},
   "source": [
    "#### Data is imbalanced"
   ]
  },
  {
   "cell_type": "code",
   "execution_count": 20,
   "id": "a234f859",
   "metadata": {},
   "outputs": [
    {
     "name": "stdout",
     "output_type": "stream",
     "text": [
      "Requirement already satisfied: nltk in c:\\users\\lenovo\\anaconda3\\lib\\site-packages (3.8.1)\n",
      "Requirement already satisfied: click in c:\\users\\lenovo\\anaconda3\\lib\\site-packages (from nltk) (8.0.4)\n",
      "Requirement already satisfied: joblib in c:\\users\\lenovo\\anaconda3\\lib\\site-packages (from nltk) (1.2.0)\n",
      "Requirement already satisfied: regex>=2021.8.3 in c:\\users\\lenovo\\anaconda3\\lib\\site-packages (from nltk) (2022.7.9)\n",
      "Requirement already satisfied: tqdm in c:\\users\\lenovo\\anaconda3\\lib\\site-packages (from nltk) (4.65.0)\n",
      "Requirement already satisfied: colorama in c:\\users\\lenovo\\anaconda3\\lib\\site-packages (from click->nltk) (0.4.6)\n"
     ]
    }
   ],
   "source": [
    "!pip install nltk"
   ]
  },
  {
   "cell_type": "code",
   "execution_count": 21,
   "id": "f8bc5a76",
   "metadata": {},
   "outputs": [],
   "source": [
    "import nltk"
   ]
  },
  {
   "cell_type": "markdown",
   "id": "84f3202e",
   "metadata": {},
   "source": [
    "The Punkt tokenizer is a pre-trained unsupervised machine learning model for tokenizing sentences in natural language text.\n",
    "Tokenization is the process of breaking down a text into individual words or sentences. NLTK provides various tokenizers for different tasks, and the Punkt tokenizer is particularly useful for splitting text into sentences."
   ]
  },
  {
   "cell_type": "code",
   "execution_count": 22,
   "id": "634beb98",
   "metadata": {},
   "outputs": [
    {
     "name": "stderr",
     "output_type": "stream",
     "text": [
      "[nltk_data] Downloading package punkt to\n",
      "[nltk_data]     C:\\Users\\Lenovo\\AppData\\Roaming\\nltk_data...\n",
      "[nltk_data]   Package punkt is already up-to-date!\n"
     ]
    },
    {
     "data": {
      "text/plain": [
       "True"
      ]
     },
     "execution_count": 22,
     "metadata": {},
     "output_type": "execute_result"
    }
   ],
   "source": [
    "nltk.download('punkt')"
   ]
  },
  {
   "cell_type": "code",
   "execution_count": 23,
   "id": "34a18c81",
   "metadata": {},
   "outputs": [],
   "source": [
    "#Get length of each text (no. of characters)\n",
    "df['num_characters']=df['text'].apply(len)"
   ]
  },
  {
   "cell_type": "code",
   "execution_count": 24,
   "id": "8a0a3e53",
   "metadata": {},
   "outputs": [
    {
     "data": {
      "text/html": [
       "<div>\n",
       "<style scoped>\n",
       "    .dataframe tbody tr th:only-of-type {\n",
       "        vertical-align: middle;\n",
       "    }\n",
       "\n",
       "    .dataframe tbody tr th {\n",
       "        vertical-align: top;\n",
       "    }\n",
       "\n",
       "    .dataframe thead th {\n",
       "        text-align: right;\n",
       "    }\n",
       "</style>\n",
       "<table border=\"1\" class=\"dataframe\">\n",
       "  <thead>\n",
       "    <tr style=\"text-align: right;\">\n",
       "      <th></th>\n",
       "      <th>target</th>\n",
       "      <th>text</th>\n",
       "      <th>num_characters</th>\n",
       "    </tr>\n",
       "  </thead>\n",
       "  <tbody>\n",
       "    <tr>\n",
       "      <th>0</th>\n",
       "      <td>0</td>\n",
       "      <td>Go until jurong point, crazy.. Available only ...</td>\n",
       "      <td>111</td>\n",
       "    </tr>\n",
       "    <tr>\n",
       "      <th>1</th>\n",
       "      <td>0</td>\n",
       "      <td>Ok lar... Joking wif u oni...</td>\n",
       "      <td>29</td>\n",
       "    </tr>\n",
       "    <tr>\n",
       "      <th>2</th>\n",
       "      <td>1</td>\n",
       "      <td>Free entry in 2 a wkly comp to win FA Cup fina...</td>\n",
       "      <td>155</td>\n",
       "    </tr>\n",
       "    <tr>\n",
       "      <th>3</th>\n",
       "      <td>0</td>\n",
       "      <td>U dun say so early hor... U c already then say...</td>\n",
       "      <td>49</td>\n",
       "    </tr>\n",
       "    <tr>\n",
       "      <th>4</th>\n",
       "      <td>0</td>\n",
       "      <td>Nah I don't think he goes to usf, he lives aro...</td>\n",
       "      <td>61</td>\n",
       "    </tr>\n",
       "  </tbody>\n",
       "</table>\n",
       "</div>"
      ],
      "text/plain": [
       "   target                                               text  num_characters\n",
       "0       0  Go until jurong point, crazy.. Available only ...             111\n",
       "1       0                      Ok lar... Joking wif u oni...              29\n",
       "2       1  Free entry in 2 a wkly comp to win FA Cup fina...             155\n",
       "3       0  U dun say so early hor... U c already then say...              49\n",
       "4       0  Nah I don't think he goes to usf, he lives aro...              61"
      ]
     },
     "execution_count": 24,
     "metadata": {},
     "output_type": "execute_result"
    }
   ],
   "source": [
    "df.head()"
   ]
  },
  {
   "cell_type": "code",
   "execution_count": 25,
   "id": "085c4297",
   "metadata": {},
   "outputs": [],
   "source": [
    "#Number of words\n",
    "df['num_words']=df['text'].apply(lambda x: len(nltk.word_tokenize(x)))"
   ]
  },
  {
   "cell_type": "code",
   "execution_count": 26,
   "id": "ff3a54bb",
   "metadata": {},
   "outputs": [
    {
     "data": {
      "text/html": [
       "<div>\n",
       "<style scoped>\n",
       "    .dataframe tbody tr th:only-of-type {\n",
       "        vertical-align: middle;\n",
       "    }\n",
       "\n",
       "    .dataframe tbody tr th {\n",
       "        vertical-align: top;\n",
       "    }\n",
       "\n",
       "    .dataframe thead th {\n",
       "        text-align: right;\n",
       "    }\n",
       "</style>\n",
       "<table border=\"1\" class=\"dataframe\">\n",
       "  <thead>\n",
       "    <tr style=\"text-align: right;\">\n",
       "      <th></th>\n",
       "      <th>target</th>\n",
       "      <th>text</th>\n",
       "      <th>num_characters</th>\n",
       "      <th>num_words</th>\n",
       "    </tr>\n",
       "  </thead>\n",
       "  <tbody>\n",
       "    <tr>\n",
       "      <th>0</th>\n",
       "      <td>0</td>\n",
       "      <td>Go until jurong point, crazy.. Available only ...</td>\n",
       "      <td>111</td>\n",
       "      <td>24</td>\n",
       "    </tr>\n",
       "    <tr>\n",
       "      <th>1</th>\n",
       "      <td>0</td>\n",
       "      <td>Ok lar... Joking wif u oni...</td>\n",
       "      <td>29</td>\n",
       "      <td>8</td>\n",
       "    </tr>\n",
       "    <tr>\n",
       "      <th>2</th>\n",
       "      <td>1</td>\n",
       "      <td>Free entry in 2 a wkly comp to win FA Cup fina...</td>\n",
       "      <td>155</td>\n",
       "      <td>37</td>\n",
       "    </tr>\n",
       "    <tr>\n",
       "      <th>3</th>\n",
       "      <td>0</td>\n",
       "      <td>U dun say so early hor... U c already then say...</td>\n",
       "      <td>49</td>\n",
       "      <td>13</td>\n",
       "    </tr>\n",
       "    <tr>\n",
       "      <th>4</th>\n",
       "      <td>0</td>\n",
       "      <td>Nah I don't think he goes to usf, he lives aro...</td>\n",
       "      <td>61</td>\n",
       "      <td>15</td>\n",
       "    </tr>\n",
       "  </tbody>\n",
       "</table>\n",
       "</div>"
      ],
      "text/plain": [
       "   target                                               text  num_characters  \\\n",
       "0       0  Go until jurong point, crazy.. Available only ...             111   \n",
       "1       0                      Ok lar... Joking wif u oni...              29   \n",
       "2       1  Free entry in 2 a wkly comp to win FA Cup fina...             155   \n",
       "3       0  U dun say so early hor... U c already then say...              49   \n",
       "4       0  Nah I don't think he goes to usf, he lives aro...              61   \n",
       "\n",
       "   num_words  \n",
       "0         24  \n",
       "1          8  \n",
       "2         37  \n",
       "3         13  \n",
       "4         15  "
      ]
     },
     "execution_count": 26,
     "metadata": {},
     "output_type": "execute_result"
    }
   ],
   "source": [
    "df.head()"
   ]
  },
  {
   "cell_type": "code",
   "execution_count": 27,
   "id": "8fb34bc9",
   "metadata": {},
   "outputs": [],
   "source": [
    "#Number of sentences\n",
    "df['num_sentences']=df['text'].apply(lambda x: len(nltk.sent_tokenize(x)))"
   ]
  },
  {
   "cell_type": "code",
   "execution_count": 28,
   "id": "86ce478f",
   "metadata": {},
   "outputs": [
    {
     "data": {
      "text/html": [
       "<div>\n",
       "<style scoped>\n",
       "    .dataframe tbody tr th:only-of-type {\n",
       "        vertical-align: middle;\n",
       "    }\n",
       "\n",
       "    .dataframe tbody tr th {\n",
       "        vertical-align: top;\n",
       "    }\n",
       "\n",
       "    .dataframe thead th {\n",
       "        text-align: right;\n",
       "    }\n",
       "</style>\n",
       "<table border=\"1\" class=\"dataframe\">\n",
       "  <thead>\n",
       "    <tr style=\"text-align: right;\">\n",
       "      <th></th>\n",
       "      <th>target</th>\n",
       "      <th>text</th>\n",
       "      <th>num_characters</th>\n",
       "      <th>num_words</th>\n",
       "      <th>num_sentences</th>\n",
       "    </tr>\n",
       "  </thead>\n",
       "  <tbody>\n",
       "    <tr>\n",
       "      <th>0</th>\n",
       "      <td>0</td>\n",
       "      <td>Go until jurong point, crazy.. Available only ...</td>\n",
       "      <td>111</td>\n",
       "      <td>24</td>\n",
       "      <td>2</td>\n",
       "    </tr>\n",
       "    <tr>\n",
       "      <th>1</th>\n",
       "      <td>0</td>\n",
       "      <td>Ok lar... Joking wif u oni...</td>\n",
       "      <td>29</td>\n",
       "      <td>8</td>\n",
       "      <td>2</td>\n",
       "    </tr>\n",
       "    <tr>\n",
       "      <th>2</th>\n",
       "      <td>1</td>\n",
       "      <td>Free entry in 2 a wkly comp to win FA Cup fina...</td>\n",
       "      <td>155</td>\n",
       "      <td>37</td>\n",
       "      <td>2</td>\n",
       "    </tr>\n",
       "    <tr>\n",
       "      <th>3</th>\n",
       "      <td>0</td>\n",
       "      <td>U dun say so early hor... U c already then say...</td>\n",
       "      <td>49</td>\n",
       "      <td>13</td>\n",
       "      <td>1</td>\n",
       "    </tr>\n",
       "    <tr>\n",
       "      <th>4</th>\n",
       "      <td>0</td>\n",
       "      <td>Nah I don't think he goes to usf, he lives aro...</td>\n",
       "      <td>61</td>\n",
       "      <td>15</td>\n",
       "      <td>1</td>\n",
       "    </tr>\n",
       "  </tbody>\n",
       "</table>\n",
       "</div>"
      ],
      "text/plain": [
       "   target                                               text  num_characters  \\\n",
       "0       0  Go until jurong point, crazy.. Available only ...             111   \n",
       "1       0                      Ok lar... Joking wif u oni...              29   \n",
       "2       1  Free entry in 2 a wkly comp to win FA Cup fina...             155   \n",
       "3       0  U dun say so early hor... U c already then say...              49   \n",
       "4       0  Nah I don't think he goes to usf, he lives aro...              61   \n",
       "\n",
       "   num_words  num_sentences  \n",
       "0         24              2  \n",
       "1          8              2  \n",
       "2         37              2  \n",
       "3         13              1  \n",
       "4         15              1  "
      ]
     },
     "execution_count": 28,
     "metadata": {},
     "output_type": "execute_result"
    }
   ],
   "source": [
    "df.head()"
   ]
  },
  {
   "cell_type": "code",
   "execution_count": 29,
   "id": "7d011fd6",
   "metadata": {},
   "outputs": [
    {
     "data": {
      "text/html": [
       "<div>\n",
       "<style scoped>\n",
       "    .dataframe tbody tr th:only-of-type {\n",
       "        vertical-align: middle;\n",
       "    }\n",
       "\n",
       "    .dataframe tbody tr th {\n",
       "        vertical-align: top;\n",
       "    }\n",
       "\n",
       "    .dataframe thead th {\n",
       "        text-align: right;\n",
       "    }\n",
       "</style>\n",
       "<table border=\"1\" class=\"dataframe\">\n",
       "  <thead>\n",
       "    <tr style=\"text-align: right;\">\n",
       "      <th></th>\n",
       "      <th>num_characters</th>\n",
       "      <th>num_words</th>\n",
       "      <th>num_sentences</th>\n",
       "    </tr>\n",
       "  </thead>\n",
       "  <tbody>\n",
       "    <tr>\n",
       "      <th>count</th>\n",
       "      <td>5169.000000</td>\n",
       "      <td>5169.000000</td>\n",
       "      <td>5169.000000</td>\n",
       "    </tr>\n",
       "    <tr>\n",
       "      <th>mean</th>\n",
       "      <td>78.977945</td>\n",
       "      <td>18.455794</td>\n",
       "      <td>1.965564</td>\n",
       "    </tr>\n",
       "    <tr>\n",
       "      <th>std</th>\n",
       "      <td>58.236293</td>\n",
       "      <td>13.324758</td>\n",
       "      <td>1.448541</td>\n",
       "    </tr>\n",
       "    <tr>\n",
       "      <th>min</th>\n",
       "      <td>2.000000</td>\n",
       "      <td>1.000000</td>\n",
       "      <td>1.000000</td>\n",
       "    </tr>\n",
       "    <tr>\n",
       "      <th>25%</th>\n",
       "      <td>36.000000</td>\n",
       "      <td>9.000000</td>\n",
       "      <td>1.000000</td>\n",
       "    </tr>\n",
       "    <tr>\n",
       "      <th>50%</th>\n",
       "      <td>60.000000</td>\n",
       "      <td>15.000000</td>\n",
       "      <td>1.000000</td>\n",
       "    </tr>\n",
       "    <tr>\n",
       "      <th>75%</th>\n",
       "      <td>117.000000</td>\n",
       "      <td>26.000000</td>\n",
       "      <td>2.000000</td>\n",
       "    </tr>\n",
       "    <tr>\n",
       "      <th>max</th>\n",
       "      <td>910.000000</td>\n",
       "      <td>220.000000</td>\n",
       "      <td>38.000000</td>\n",
       "    </tr>\n",
       "  </tbody>\n",
       "</table>\n",
       "</div>"
      ],
      "text/plain": [
       "       num_characters    num_words  num_sentences\n",
       "count     5169.000000  5169.000000    5169.000000\n",
       "mean        78.977945    18.455794       1.965564\n",
       "std         58.236293    13.324758       1.448541\n",
       "min          2.000000     1.000000       1.000000\n",
       "25%         36.000000     9.000000       1.000000\n",
       "50%         60.000000    15.000000       1.000000\n",
       "75%        117.000000    26.000000       2.000000\n",
       "max        910.000000   220.000000      38.000000"
      ]
     },
     "execution_count": 29,
     "metadata": {},
     "output_type": "execute_result"
    }
   ],
   "source": [
    "df[['num_characters','num_words','num_sentences']].describe()"
   ]
  },
  {
   "cell_type": "code",
   "execution_count": 30,
   "id": "9cff4b64",
   "metadata": {},
   "outputs": [
    {
     "data": {
      "text/html": [
       "<div>\n",
       "<style scoped>\n",
       "    .dataframe tbody tr th:only-of-type {\n",
       "        vertical-align: middle;\n",
       "    }\n",
       "\n",
       "    .dataframe tbody tr th {\n",
       "        vertical-align: top;\n",
       "    }\n",
       "\n",
       "    .dataframe thead th {\n",
       "        text-align: right;\n",
       "    }\n",
       "</style>\n",
       "<table border=\"1\" class=\"dataframe\">\n",
       "  <thead>\n",
       "    <tr style=\"text-align: right;\">\n",
       "      <th></th>\n",
       "      <th>num_characters</th>\n",
       "      <th>num_words</th>\n",
       "      <th>num_sentences</th>\n",
       "    </tr>\n",
       "  </thead>\n",
       "  <tbody>\n",
       "    <tr>\n",
       "      <th>count</th>\n",
       "      <td>4516.000000</td>\n",
       "      <td>4516.000000</td>\n",
       "      <td>4516.000000</td>\n",
       "    </tr>\n",
       "    <tr>\n",
       "      <th>mean</th>\n",
       "      <td>70.459256</td>\n",
       "      <td>17.123782</td>\n",
       "      <td>1.820195</td>\n",
       "    </tr>\n",
       "    <tr>\n",
       "      <th>std</th>\n",
       "      <td>56.358207</td>\n",
       "      <td>13.493970</td>\n",
       "      <td>1.383657</td>\n",
       "    </tr>\n",
       "    <tr>\n",
       "      <th>min</th>\n",
       "      <td>2.000000</td>\n",
       "      <td>1.000000</td>\n",
       "      <td>1.000000</td>\n",
       "    </tr>\n",
       "    <tr>\n",
       "      <th>25%</th>\n",
       "      <td>34.000000</td>\n",
       "      <td>8.000000</td>\n",
       "      <td>1.000000</td>\n",
       "    </tr>\n",
       "    <tr>\n",
       "      <th>50%</th>\n",
       "      <td>52.000000</td>\n",
       "      <td>13.000000</td>\n",
       "      <td>1.000000</td>\n",
       "    </tr>\n",
       "    <tr>\n",
       "      <th>75%</th>\n",
       "      <td>90.000000</td>\n",
       "      <td>22.000000</td>\n",
       "      <td>2.000000</td>\n",
       "    </tr>\n",
       "    <tr>\n",
       "      <th>max</th>\n",
       "      <td>910.000000</td>\n",
       "      <td>220.000000</td>\n",
       "      <td>38.000000</td>\n",
       "    </tr>\n",
       "  </tbody>\n",
       "</table>\n",
       "</div>"
      ],
      "text/plain": [
       "       num_characters    num_words  num_sentences\n",
       "count     4516.000000  4516.000000    4516.000000\n",
       "mean        70.459256    17.123782       1.820195\n",
       "std         56.358207    13.493970       1.383657\n",
       "min          2.000000     1.000000       1.000000\n",
       "25%         34.000000     8.000000       1.000000\n",
       "50%         52.000000    13.000000       1.000000\n",
       "75%         90.000000    22.000000       2.000000\n",
       "max        910.000000   220.000000      38.000000"
      ]
     },
     "execution_count": 30,
     "metadata": {},
     "output_type": "execute_result"
    }
   ],
   "source": [
    "# If we describe only the 'ham' target\n",
    "df[df['target']==0][['num_characters','num_words','num_sentences']].describe()"
   ]
  },
  {
   "cell_type": "code",
   "execution_count": 31,
   "id": "0707fa9c",
   "metadata": {},
   "outputs": [
    {
     "data": {
      "text/html": [
       "<div>\n",
       "<style scoped>\n",
       "    .dataframe tbody tr th:only-of-type {\n",
       "        vertical-align: middle;\n",
       "    }\n",
       "\n",
       "    .dataframe tbody tr th {\n",
       "        vertical-align: top;\n",
       "    }\n",
       "\n",
       "    .dataframe thead th {\n",
       "        text-align: right;\n",
       "    }\n",
       "</style>\n",
       "<table border=\"1\" class=\"dataframe\">\n",
       "  <thead>\n",
       "    <tr style=\"text-align: right;\">\n",
       "      <th></th>\n",
       "      <th>num_characters</th>\n",
       "      <th>num_words</th>\n",
       "      <th>num_sentences</th>\n",
       "    </tr>\n",
       "  </thead>\n",
       "  <tbody>\n",
       "    <tr>\n",
       "      <th>count</th>\n",
       "      <td>653.000000</td>\n",
       "      <td>653.000000</td>\n",
       "      <td>653.000000</td>\n",
       "    </tr>\n",
       "    <tr>\n",
       "      <th>mean</th>\n",
       "      <td>137.891271</td>\n",
       "      <td>27.667688</td>\n",
       "      <td>2.970904</td>\n",
       "    </tr>\n",
       "    <tr>\n",
       "      <th>std</th>\n",
       "      <td>30.137753</td>\n",
       "      <td>7.008418</td>\n",
       "      <td>1.488425</td>\n",
       "    </tr>\n",
       "    <tr>\n",
       "      <th>min</th>\n",
       "      <td>13.000000</td>\n",
       "      <td>2.000000</td>\n",
       "      <td>1.000000</td>\n",
       "    </tr>\n",
       "    <tr>\n",
       "      <th>25%</th>\n",
       "      <td>132.000000</td>\n",
       "      <td>25.000000</td>\n",
       "      <td>2.000000</td>\n",
       "    </tr>\n",
       "    <tr>\n",
       "      <th>50%</th>\n",
       "      <td>149.000000</td>\n",
       "      <td>29.000000</td>\n",
       "      <td>3.000000</td>\n",
       "    </tr>\n",
       "    <tr>\n",
       "      <th>75%</th>\n",
       "      <td>157.000000</td>\n",
       "      <td>32.000000</td>\n",
       "      <td>4.000000</td>\n",
       "    </tr>\n",
       "    <tr>\n",
       "      <th>max</th>\n",
       "      <td>224.000000</td>\n",
       "      <td>46.000000</td>\n",
       "      <td>9.000000</td>\n",
       "    </tr>\n",
       "  </tbody>\n",
       "</table>\n",
       "</div>"
      ],
      "text/plain": [
       "       num_characters   num_words  num_sentences\n",
       "count      653.000000  653.000000     653.000000\n",
       "mean       137.891271   27.667688       2.970904\n",
       "std         30.137753    7.008418       1.488425\n",
       "min         13.000000    2.000000       1.000000\n",
       "25%        132.000000   25.000000       2.000000\n",
       "50%        149.000000   29.000000       3.000000\n",
       "75%        157.000000   32.000000       4.000000\n",
       "max        224.000000   46.000000       9.000000"
      ]
     },
     "execution_count": 31,
     "metadata": {},
     "output_type": "execute_result"
    }
   ],
   "source": [
    "# If we describe only the 'spam' target\n",
    "df[df['target']==1][['num_characters','num_words','num_sentences']].describe()"
   ]
  },
  {
   "cell_type": "markdown",
   "id": "999ec779",
   "metadata": {},
   "source": [
    "Spam has more average than ham in terms of characters,words and sentences."
   ]
  },
  {
   "cell_type": "code",
   "execution_count": 32,
   "id": "aff6dc47",
   "metadata": {},
   "outputs": [],
   "source": [
    "import seaborn as sns"
   ]
  },
  {
   "cell_type": "code",
   "execution_count": 33,
   "id": "9069e008",
   "metadata": {},
   "outputs": [
    {
     "data": {
      "text/plain": [
       "<Axes: xlabel='num_characters', ylabel='Count'>"
      ]
     },
     "execution_count": 33,
     "metadata": {},
     "output_type": "execute_result"
    },
    {
     "data": {
      "image/png": "[encoded data removed]",
      "text/plain": [
       "<Figure size 640x480 with 1 Axes>"
      ]
     },
     "metadata": {},
     "output_type": "display_data"
    }
   ],
   "source": [
    "sns.histplot(df[df['target']==0]['num_characters'])\n",
    "sns.histplot(df[df['target']==1]['num_characters'],color='red')"
   ]
  },
  {
   "cell_type": "markdown",
   "id": "ae214c04",
   "metadata": {},
   "source": [
    "Number of characters used in ham messages is less as compared to spam messages."
   ]
  },
  {
   "cell_type": "code",
   "execution_count": 34,
   "id": "87bb756a",
   "metadata": {},
   "outputs": [
    {
     "data": {
      "text/plain": [
       "<Axes: xlabel='num_words', ylabel='Count'>"
      ]
     },
     "execution_count": 34,
     "metadata": {},
     "output_type": "execute_result"
    },
    {
     "data": {
      "image/png": "[encoded data removed]",
      "text/plain": [
       "<Figure size 640x480 with 1 Axes>"
      ]
     },
     "metadata": {},
     "output_type": "display_data"
    }
   ],
   "source": [
    "sns.histplot(df[df['target']==0]['num_words'])\n",
    "sns.histplot(df[df['target']==1]['num_words'],color='red')"
   ]
  },
  {
   "cell_type": "code",
   "execution_count": 35,
   "id": "557afe63",
   "metadata": {},
   "outputs": [
    {
     "data": {
      "text/plain": [
       "<Axes: xlabel='num_sentences', ylabel='Count'>"
      ]
     },
     "execution_count": 35,
     "metadata": {},
     "output_type": "execute_result"
    },
    {
     "data": {
      "image/png": "[encoded data removed]",
      "text/plain": [
       "<Figure size 640x480 with 1 Axes>"
      ]
     },
     "metadata": {},
     "output_type": "display_data"
    }
   ],
   "source": [
    "sns.histplot(df[df['target']==0]['num_sentences'])\n",
    "sns.histplot(df[df['target']==1]['num_sentences'],color='red')"
   ]
  },
  {
   "cell_type": "markdown",
   "id": "cb075b1a",
   "metadata": {},
   "source": [
    "Same conclusion is seen in case of words and sentences. Ham has less weightage than spam."
   ]
  },
  {
   "cell_type": "code",
   "execution_count": 36,
   "id": "2f33717b",
   "metadata": {},
   "outputs": [
    {
     "name": "stderr",
     "output_type": "stream",
     "text": [
      "C:\\Users\\Lenovo\\anaconda3\\Lib\\site-packages\\seaborn\\axisgrid.py:118: UserWarning: The figure layout has changed to tight\n",
      "  self._figure.tight_layout(*args, **kwargs)\n"
     ]
    },
    {
     "data": {
      "text/plain": [
       "<seaborn.axisgrid.PairGrid at 0x23b90bd6750>"
      ]
     },
     "execution_count": 36,
     "metadata": {},
     "output_type": "execute_result"
    },
    {
     "data": {
      "image/png": "[encoded data removed]",
      "text/plain": [
       "<Figure size 808.875x750 with 12 Axes>"
      ]
     },
     "metadata": {},
     "output_type": "display_data"
    }
   ],
   "source": [
    "sns.pairplot(df,hue='target')"
   ]
  },
  {
   "cell_type": "code",
   "execution_count": 37,
   "id": "4a4523f4",
   "metadata": {},
   "outputs": [
    {
     "data": {
      "text/plain": [
       "<Axes: >"
      ]
     },
     "execution_count": 37,
     "metadata": {},
     "output_type": "execute_result"
    },
    {
     "data": {
      "image/png": "[encoded data removed]",
      "text/plain": [
       "<Figure size 640x480 with 2 Axes>"
      ]
     },
     "metadata": {},
     "output_type": "display_data"
    }
   ],
   "source": [
    "numeric_columns = df.select_dtypes(include=['float64', 'int64'])\n",
    "sns.heatmap(numeric_columns.corr(),annot=True)"
   ]
  },
  {
   "cell_type": "markdown",
   "id": "ff3acffd",
   "metadata": {},
   "source": [
    "There is a highest correlation between number of words and number of characters."
   ]
  },
  {
   "cell_type": "markdown",
   "id": "1312a2a1",
   "metadata": {},
   "source": [
    "We will take help of num_characters to create a model."
   ]
  },
  {
   "cell_type": "markdown",
   "id": "1657d447",
   "metadata": {},
   "source": [
    "## 3. Data Preprocessing\n",
    "* Lower case\n",
    "* Tokenisation\n",
    "* Removing Special Characters\n",
    "* Removing stop words and punctuation\n",
    "* Stemming"
   ]
  },
  {
   "cell_type": "markdown",
   "id": "4b369298",
   "metadata": {},
   "source": [
    "### Tokenisation:\n",
    "\n",
    "Tokenization is the process of breaking down a text document or a piece of text into smaller units, typically words or sentences. These smaller units are called tokens.\n",
    "\n",
    "There are two main types of tokenization:\n",
    "1. Word Tokenization:\n",
    "\n",
    "For example, given the sentence \"The quick brown fox jumps over the lazy dog\", word tokenization would produce the following tokens: [\"The\", \"quick\", \"brown\", \"fox\", \"jumps\", \"over\", \"the\", \"lazy\", \"dog\"].\n",
    "2. Sentence Tokenization:\n",
    "\n",
    "For example, given the paragraph \"This is the first sentence. This is the second sentence! And here is the third sentence?\", sentence tokenization would produce the following tokens: [\"This is the first sentence.\", \"This is the second sentence!\", \"And here is the third sentence?\"].\n",
    "\n",
    "\n",
    "### Stemming:\n",
    "Stemming is the process of reducing words to their base or root forms. The main idea behind stemming is to normalize words so that variations of the same word are treated as the same word, despite their different inflections or derivations.\n",
    "For example, consider the following words:\n",
    "\n",
    "\"running\"\n",
    "\"runs\"\n",
    "\"runner\"\n",
    "\"ran\"\n",
    "A stemming algorithm might reduce all of these words to the stem \"run\", ignoring their different forms. This allows the algorithm to treat variations of the word \"run\" as the same word, which can be useful for tasks where word forms are less important than their underlying meanings."
   ]
  },
  {
   "cell_type": "code",
   "execution_count": 38,
   "id": "35b56d8a",
   "metadata": {},
   "outputs": [],
   "source": [
    "from nltk.corpus import stopwords"
   ]
  },
  {
   "cell_type": "code",
   "execution_count": 39,
   "id": "a73c7b30",
   "metadata": {},
   "outputs": [
    {
     "name": "stderr",
     "output_type": "stream",
     "text": [
      "[nltk_data] Downloading package stopwords to\n",
      "[nltk_data]     C:\\Users\\Lenovo\\AppData\\Roaming\\nltk_data...\n",
      "[nltk_data]   Package stopwords is already up-to-date!\n"
     ]
    },
    {
     "data": {
      "text/plain": [
       "True"
      ]
     },
     "execution_count": 39,
     "metadata": {},
     "output_type": "execute_result"
    }
   ],
   "source": [
    "nltk.download('stopwords')"
   ]
  },
  {
   "cell_type": "code",
   "execution_count": 40,
   "id": "f6d86e9d",
   "metadata": {},
   "outputs": [
    {
     "data": {
      "text/plain": [
       "['i',\n",
       " 'me',\n",
       " 'my',\n",
       " 'myself',\n",
       " 'we',\n",
       " 'our',\n",
       " 'ours',\n",
       " 'ourselves',\n",
       " 'you',\n",
       " \"you're\",\n",
       " \"you've\",\n",
       " \"you'll\",\n",
       " \"you'd\",\n",
       " 'your',\n",
       " 'yours',\n",
       " 'yourself',\n",
       " 'yourselves',\n",
       " 'he',\n",
       " 'him',\n",
       " 'his',\n",
       " 'himself',\n",
       " 'she',\n",
       " \"she's\",\n",
       " 'her',\n",
       " 'hers',\n",
       " 'herself',\n",
       " 'it',\n",
       " \"it's\",\n",
       " 'its',\n",
       " 'itself',\n",
       " 'they',\n",
       " 'them',\n",
       " 'their',\n",
       " 'theirs',\n",
       " 'themselves',\n",
       " 'what',\n",
       " 'which',\n",
       " 'who',\n",
       " 'whom',\n",
       " 'this',\n",
       " 'that',\n",
       " \"that'll\",\n",
       " 'these',\n",
       " 'those',\n",
       " 'am',\n",
       " 'is',\n",
       " 'are',\n",
       " 'was',\n",
       " 'were',\n",
       " 'be',\n",
       " 'been',\n",
       " 'being',\n",
       " 'have',\n",
       " 'has',\n",
       " 'had',\n",
       " 'having',\n",
       " 'do',\n",
       " 'does',\n",
       " 'did',\n",
       " 'doing',\n",
       " 'a',\n",
       " 'an',\n",
       " 'the',\n",
       " 'and',\n",
       " 'but',\n",
       " 'if',\n",
       " 'or',\n",
       " 'because',\n",
       " 'as',\n",
       " 'until',\n",
       " 'while',\n",
       " 'of',\n",
       " 'at',\n",
       " 'by',\n",
       " 'for',\n",
       " 'with',\n",
       " 'about',\n",
       " 'against',\n",
       " 'between',\n",
       " 'into',\n",
       " 'through',\n",
       " 'during',\n",
       " 'before',\n",
       " 'after',\n",
       " 'above',\n",
       " 'below',\n",
       " 'to',\n",
       " 'from',\n",
       " 'up',\n",
       " 'down',\n",
       " 'in',\n",
       " 'out',\n",
       " 'on',\n",
       " 'off',\n",
       " 'over',\n",
       " 'under',\n",
       " 'again',\n",
       " 'further',\n",
       " 'then',\n",
       " 'once',\n",
       " 'here',\n",
       " 'there',\n",
       " 'when',\n",
       " 'where',\n",
       " 'why',\n",
       " 'how',\n",
       " 'all',\n",
       " 'any',\n",
       " 'both',\n",
       " 'each',\n",
       " 'few',\n",
       " 'more',\n",
       " 'most',\n",
       " 'other',\n",
       " 'some',\n",
       " 'such',\n",
       " 'no',\n",
       " 'nor',\n",
       " 'not',\n",
       " 'only',\n",
       " 'own',\n",
       " 'same',\n",
       " 'so',\n",
       " 'than',\n",
       " 'too',\n",
       " 'very',\n",
       " 's',\n",
       " 't',\n",
       " 'can',\n",
       " 'will',\n",
       " 'just',\n",
       " 'don',\n",
       " \"don't\",\n",
       " 'should',\n",
       " \"should've\",\n",
       " 'now',\n",
       " 'd',\n",
       " 'll',\n",
       " 'm',\n",
       " 'o',\n",
       " 're',\n",
       " 've',\n",
       " 'y',\n",
       " 'ain',\n",
       " 'aren',\n",
       " \"aren't\",\n",
       " 'couldn',\n",
       " \"couldn't\",\n",
       " 'didn',\n",
       " \"didn't\",\n",
       " 'doesn',\n",
       " \"doesn't\",\n",
       " 'hadn',\n",
       " \"hadn't\",\n",
       " 'hasn',\n",
       " \"hasn't\",\n",
       " 'haven',\n",
       " \"haven't\",\n",
       " 'isn',\n",
       " \"isn't\",\n",
       " 'ma',\n",
       " 'mightn',\n",
       " \"mightn't\",\n",
       " 'mustn',\n",
       " \"mustn't\",\n",
       " 'needn',\n",
       " \"needn't\",\n",
       " 'shan',\n",
       " \"shan't\",\n",
       " 'shouldn',\n",
       " \"shouldn't\",\n",
       " 'wasn',\n",
       " \"wasn't\",\n",
       " 'weren',\n",
       " \"weren't\",\n",
       " 'won',\n",
       " \"won't\",\n",
       " 'wouldn',\n",
       " \"wouldn't\"]"
      ]
     },
     "execution_count": 40,
     "metadata": {},
     "output_type": "execute_result"
    }
   ],
   "source": [
    "stopwords.words('english') \n",
    "#The output is the stopwords. Stopwords doesn't adds meaning to the sentence, they help in the formation of sentences"
   ]
  },
  {
   "cell_type": "code",
   "execution_count": 41,
   "id": "7e50bd55",
   "metadata": {},
   "outputs": [
    {
     "data": {
      "text/plain": [
       "'!\"#$%&\\'()*+,-./:;<=>?@[\\\\]^_`{|}~'"
      ]
     },
     "execution_count": 41,
     "metadata": {},
     "output_type": "execute_result"
    }
   ],
   "source": [
    "import string\n",
    "#Puntuations:\n",
    "string.punctuation"
   ]
  },
  {
   "cell_type": "code",
   "execution_count": 42,
   "id": "d40e2153",
   "metadata": {},
   "outputs": [
    {
     "data": {
      "text/plain": [
       "'love'"
      ]
     },
     "execution_count": 42,
     "metadata": {},
     "output_type": "execute_result"
    }
   ],
   "source": [
    "from nltk.stem.porter import PorterStemmer\n",
    "ps=PorterStemmer()\n",
    "ps.stem('loving')"
   ]
  },
  {
   "cell_type": "code",
   "execution_count": 43,
   "id": "54bf0f8c",
   "metadata": {},
   "outputs": [],
   "source": [
    "# A function that will perform all these processes\n",
    "def transform_text(text):\n",
    "    text=text.lower() #converting text into lower alphabets\n",
    "    text=nltk.word_tokenize(text) #tokenisng text\n",
    "    \n",
    "    #removing special characters\n",
    "    y=[]\n",
    "    for i in text:\n",
    "        if i.isalnum():\n",
    "            y.append(i)\n",
    "    text=y[:]\n",
    "    y.clear()\n",
    "    #removing stopwords and punctuation\n",
    "    \n",
    "    for i in text:\n",
    "        if i not in stopwords.words('english') and i not in string.punctuation:\n",
    "            y.append(i)\n",
    "            \n",
    "    text=y[:]\n",
    "    y.clear()\n",
    "    \n",
    "    #stemming\n",
    "    for i in text:\n",
    "        y.append(ps.stem(i))\n",
    "        \n",
    "    return \" \".join(y)"
   ]
  },
  {
   "cell_type": "code",
   "execution_count": 44,
   "id": "cf8b5c23",
   "metadata": {},
   "outputs": [
    {
     "data": {
      "text/plain": [
       "'love youtub lectur machin learn'"
      ]
     },
     "execution_count": 44,
     "metadata": {},
     "output_type": "execute_result"
    }
   ],
   "source": [
    "#Example\n",
    "transform_text(\"I loved the youtube lectures on machine learning. How about you? &\")"
   ]
  },
  {
   "cell_type": "code",
   "execution_count": 45,
   "id": "39ebfce6",
   "metadata": {},
   "outputs": [
    {
     "data": {
      "text/html": [
       "<div>\n",
       "<style scoped>\n",
       "    .dataframe tbody tr th:only-of-type {\n",
       "        vertical-align: middle;\n",
       "    }\n",
       "\n",
       "    .dataframe tbody tr th {\n",
       "        vertical-align: top;\n",
       "    }\n",
       "\n",
       "    .dataframe thead th {\n",
       "        text-align: right;\n",
       "    }\n",
       "</style>\n",
       "<table border=\"1\" class=\"dataframe\">\n",
       "  <thead>\n",
       "    <tr style=\"text-align: right;\">\n",
       "      <th></th>\n",
       "      <th>target</th>\n",
       "      <th>text</th>\n",
       "      <th>num_characters</th>\n",
       "      <th>num_words</th>\n",
       "      <th>num_sentences</th>\n",
       "      <th>transformed_text</th>\n",
       "    </tr>\n",
       "  </thead>\n",
       "  <tbody>\n",
       "    <tr>\n",
       "      <th>0</th>\n",
       "      <td>0</td>\n",
       "      <td>Go until jurong point, crazy.. Available only ...</td>\n",
       "      <td>111</td>\n",
       "      <td>24</td>\n",
       "      <td>2</td>\n",
       "      <td>go jurong point crazi avail bugi n great world...</td>\n",
       "    </tr>\n",
       "    <tr>\n",
       "      <th>1</th>\n",
       "      <td>0</td>\n",
       "      <td>Ok lar... Joking wif u oni...</td>\n",
       "      <td>29</td>\n",
       "      <td>8</td>\n",
       "      <td>2</td>\n",
       "      <td>ok lar joke wif u oni</td>\n",
       "    </tr>\n",
       "    <tr>\n",
       "      <th>2</th>\n",
       "      <td>1</td>\n",
       "      <td>Free entry in 2 a wkly comp to win FA Cup fina...</td>\n",
       "      <td>155</td>\n",
       "      <td>37</td>\n",
       "      <td>2</td>\n",
       "      <td>free entri 2 wkli comp win fa cup final tkt 21...</td>\n",
       "    </tr>\n",
       "    <tr>\n",
       "      <th>3</th>\n",
       "      <td>0</td>\n",
       "      <td>U dun say so early hor... U c already then say...</td>\n",
       "      <td>49</td>\n",
       "      <td>13</td>\n",
       "      <td>1</td>\n",
       "      <td>u dun say earli hor u c alreadi say</td>\n",
       "    </tr>\n",
       "    <tr>\n",
       "      <th>4</th>\n",
       "      <td>0</td>\n",
       "      <td>Nah I don't think he goes to usf, he lives aro...</td>\n",
       "      <td>61</td>\n",
       "      <td>15</td>\n",
       "      <td>1</td>\n",
       "      <td>nah think goe usf live around though</td>\n",
       "    </tr>\n",
       "  </tbody>\n",
       "</table>\n",
       "</div>"
      ],
      "text/plain": [
       "   target                                               text  num_characters  \\\n",
       "0       0  Go until jurong point, crazy.. Available only ...             111   \n",
       "1       0                      Ok lar... Joking wif u oni...              29   \n",
       "2       1  Free entry in 2 a wkly comp to win FA Cup fina...             155   \n",
       "3       0  U dun say so early hor... U c already then say...              49   \n",
       "4       0  Nah I don't think he goes to usf, he lives aro...              61   \n",
       "\n",
       "   num_words  num_sentences                                   transformed_text  \n",
       "0         24              2  go jurong point crazi avail bugi n great world...  \n",
       "1          8              2                              ok lar joke wif u oni  \n",
       "2         37              2  free entri 2 wkli comp win fa cup final tkt 21...  \n",
       "3         13              1                u dun say earli hor u c alreadi say  \n",
       "4         15              1               nah think goe usf live around though  "
      ]
     },
     "execution_count": 45,
     "metadata": {},
     "output_type": "execute_result"
    }
   ],
   "source": [
    "#create a new column for transformed text\n",
    "\n",
    "df['transformed_text']=df['text'].apply(transform_text)\n",
    "df.head()"
   ]
  },
  {
   "cell_type": "markdown",
   "id": "2f13ded3",
   "metadata": {},
   "source": [
    "####  Generating Word Cloud"
   ]
  },
  {
   "cell_type": "code",
   "execution_count": 46,
   "id": "1a4170f4",
   "metadata": {},
   "outputs": [
    {
     "name": "stdout",
     "output_type": "stream",
     "text": [
      "Requirement already satisfied: wordcloud in c:\\users\\lenovo\\anaconda3\\lib\\site-packages (1.9.3)\n",
      "Requirement already satisfied: numpy>=1.6.1 in c:\\users\\lenovo\\anaconda3\\lib\\site-packages (from wordcloud) (1.26.2)\n",
      "Requirement already satisfied: pillow in c:\\users\\lenovo\\anaconda3\\lib\\site-packages (from wordcloud) (9.4.0)\n",
      "Requirement already satisfied: matplotlib in c:\\users\\lenovo\\anaconda3\\lib\\site-packages (from wordcloud) (3.7.2)\n",
      "Requirement already satisfied: contourpy>=1.0.1 in c:\\users\\lenovo\\anaconda3\\lib\\site-packages (from matplotlib->wordcloud) (1.0.5)\n",
      "Requirement already satisfied: cycler>=0.10 in c:\\users\\lenovo\\anaconda3\\lib\\site-packages (from matplotlib->wordcloud) (0.11.0)\n",
      "Requirement already satisfied: fonttools>=4.22.0 in c:\\users\\lenovo\\anaconda3\\lib\\site-packages (from matplotlib->wordcloud) (4.25.0)\n",
      "Requirement already satisfied: kiwisolver>=1.0.1 in c:\\users\\lenovo\\anaconda3\\lib\\site-packages (from matplotlib->wordcloud) (1.4.4)\n",
      "Requirement already satisfied: packaging>=20.0 in c:\\users\\lenovo\\anaconda3\\lib\\site-packages (from matplotlib->wordcloud) (23.1)\n",
      "Requirement already satisfied: pyparsing<3.1,>=2.3.1 in c:\\users\\lenovo\\anaconda3\\lib\\site-packages (from matplotlib->wordcloud) (3.0.9)\n",
      "Requirement already satisfied: python-dateutil>=2.7 in c:\\users\\lenovo\\anaconda3\\lib\\site-packages (from matplotlib->wordcloud) (2.8.2)\n",
      "Requirement already satisfied: six>=1.5 in c:\\users\\lenovo\\anaconda3\\lib\\site-packages (from python-dateutil>=2.7->matplotlib->wordcloud) (1.16.0)\n"
     ]
    }
   ],
   "source": [
    "!pip install wordcloud"
   ]
  },
  {
   "cell_type": "code",
   "execution_count": 47,
   "id": "b53bf59a",
   "metadata": {},
   "outputs": [],
   "source": [
    "from wordcloud import WordCloud\n",
    "wc = WordCloud(width=500,height=500,min_font_size=10,background_color='white')"
   ]
  },
  {
   "cell_type": "code",
   "execution_count": 48,
   "id": "dc08400f",
   "metadata": {},
   "outputs": [],
   "source": [
    "#SPAM WORD CLOUD\n",
    "spam_wc=wc.generate(df[df['target']==1]['transformed_text'].str.cat(sep=\" \"))"
   ]
  },
  {
   "cell_type": "code",
   "execution_count": 49,
   "id": "7909dc93",
   "metadata": {},
   "outputs": [
    {
     "data": {
      "text/plain": [
       "<matplotlib.image.AxesImage at 0x23b92462850>"
      ]
     },
     "execution_count": 49,
     "metadata": {},
     "output_type": "execute_result"
    },
    {
     "data": {
      "image/png": "[encoded data removed]",
      "text/plain": [
       "<Figure size 640x480 with 1 Axes>"
      ]
     },
     "metadata": {},
     "output_type": "display_data"
    }
   ],
   "source": [
    "plt.imshow(spam_wc)"
   ]
  },
  {
   "cell_type": "code",
   "execution_count": 50,
   "id": "988df325",
   "metadata": {},
   "outputs": [],
   "source": [
    "# HAM WORD CLOUD\n",
    "ham_wc=wc.generate(df[df['target']==0]['transformed_text'].str.cat(sep=\" \"))"
   ]
  },
  {
   "cell_type": "code",
   "execution_count": 51,
   "id": "3c6165e5",
   "metadata": {},
   "outputs": [
    {
     "data": {
      "text/plain": [
       "<matplotlib.image.AxesImage at 0x23b92902150>"
      ]
     },
     "execution_count": 51,
     "metadata": {},
     "output_type": "execute_result"
    },
    {
     "data": {
      "image/png": "[encoded data removed]",
      "text/plain": [
       "<Figure size 640x480 with 1 Axes>"
      ]
     },
     "metadata": {},
     "output_type": "display_data"
    }
   ],
   "source": [
    "plt.imshow(ham_wc)"
   ]
  },
  {
   "cell_type": "code",
   "execution_count": 52,
   "id": "6857b89e",
   "metadata": {},
   "outputs": [
    {
     "data": {
      "text/html": [
       "<div>\n",
       "<style scoped>\n",
       "    .dataframe tbody tr th:only-of-type {\n",
       "        vertical-align: middle;\n",
       "    }\n",
       "\n",
       "    .dataframe tbody tr th {\n",
       "        vertical-align: top;\n",
       "    }\n",
       "\n",
       "    .dataframe thead th {\n",
       "        text-align: right;\n",
       "    }\n",
       "</style>\n",
       "<table border=\"1\" class=\"dataframe\">\n",
       "  <thead>\n",
       "    <tr style=\"text-align: right;\">\n",
       "      <th></th>\n",
       "      <th>target</th>\n",
       "      <th>text</th>\n",
       "      <th>num_characters</th>\n",
       "      <th>num_words</th>\n",
       "      <th>num_sentences</th>\n",
       "      <th>transformed_text</th>\n",
       "    </tr>\n",
       "  </thead>\n",
       "  <tbody>\n",
       "    <tr>\n",
       "      <th>0</th>\n",
       "      <td>0</td>\n",
       "      <td>Go until jurong point, crazy.. Available only ...</td>\n",
       "      <td>111</td>\n",
       "      <td>24</td>\n",
       "      <td>2</td>\n",
       "      <td>go jurong point crazi avail bugi n great world...</td>\n",
       "    </tr>\n",
       "    <tr>\n",
       "      <th>1</th>\n",
       "      <td>0</td>\n",
       "      <td>Ok lar... Joking wif u oni...</td>\n",
       "      <td>29</td>\n",
       "      <td>8</td>\n",
       "      <td>2</td>\n",
       "      <td>ok lar joke wif u oni</td>\n",
       "    </tr>\n",
       "    <tr>\n",
       "      <th>2</th>\n",
       "      <td>1</td>\n",
       "      <td>Free entry in 2 a wkly comp to win FA Cup fina...</td>\n",
       "      <td>155</td>\n",
       "      <td>37</td>\n",
       "      <td>2</td>\n",
       "      <td>free entri 2 wkli comp win fa cup final tkt 21...</td>\n",
       "    </tr>\n",
       "    <tr>\n",
       "      <th>3</th>\n",
       "      <td>0</td>\n",
       "      <td>U dun say so early hor... U c already then say...</td>\n",
       "      <td>49</td>\n",
       "      <td>13</td>\n",
       "      <td>1</td>\n",
       "      <td>u dun say earli hor u c alreadi say</td>\n",
       "    </tr>\n",
       "    <tr>\n",
       "      <th>4</th>\n",
       "      <td>0</td>\n",
       "      <td>Nah I don't think he goes to usf, he lives aro...</td>\n",
       "      <td>61</td>\n",
       "      <td>15</td>\n",
       "      <td>1</td>\n",
       "      <td>nah think goe usf live around though</td>\n",
       "    </tr>\n",
       "  </tbody>\n",
       "</table>\n",
       "</div>"
      ],
      "text/plain": [
       "   target                                               text  num_characters  \\\n",
       "0       0  Go until jurong point, crazy.. Available only ...             111   \n",
       "1       0                      Ok lar... Joking wif u oni...              29   \n",
       "2       1  Free entry in 2 a wkly comp to win FA Cup fina...             155   \n",
       "3       0  U dun say so early hor... U c already then say...              49   \n",
       "4       0  Nah I don't think he goes to usf, he lives aro...              61   \n",
       "\n",
       "   num_words  num_sentences                                   transformed_text  \n",
       "0         24              2  go jurong point crazi avail bugi n great world...  \n",
       "1          8              2                              ok lar joke wif u oni  \n",
       "2         37              2  free entri 2 wkli comp win fa cup final tkt 21...  \n",
       "3         13              1                u dun say earli hor u c alreadi say  \n",
       "4         15              1               nah think goe usf live around though  "
      ]
     },
     "execution_count": 52,
     "metadata": {},
     "output_type": "execute_result"
    }
   ],
   "source": [
    "df.head()"
   ]
  },
  {
   "cell_type": "code",
   "execution_count": 53,
   "id": "333a7b33",
   "metadata": {},
   "outputs": [],
   "source": [
    "spam_corpus=[]\n",
    "for msg in df[df['target']==1]['transformed_text'].tolist():\n",
    "    for word in msg.split():\n",
    "        spam_corpus.append(word)"
   ]
  },
  {
   "cell_type": "code",
   "execution_count": 54,
   "id": "b69cee36",
   "metadata": {},
   "outputs": [
    {
     "data": {
      "text/plain": [
       "9939"
      ]
     },
     "execution_count": 54,
     "metadata": {},
     "output_type": "execute_result"
    }
   ],
   "source": [
    "len(spam_corpus)"
   ]
  },
  {
   "cell_type": "code",
   "execution_count": 55,
   "id": "f78e75a3",
   "metadata": {},
   "outputs": [
    {
     "data": {
      "text/plain": [
       "Counter({'call': 320,\n",
       "         'free': 191,\n",
       "         '2': 155,\n",
       "         'txt': 141,\n",
       "         'text': 122,\n",
       "         'u': 119,\n",
       "         'ur': 119,\n",
       "         'mobil': 114,\n",
       "         'stop': 104,\n",
       "         'repli': 103,\n",
       "         'claim': 98,\n",
       "         '4': 97,\n",
       "         'prize': 82,\n",
       "         'get': 74,\n",
       "         'new': 64,\n",
       "         'servic': 64,\n",
       "         'tone': 63,\n",
       "         'send': 60,\n",
       "         'urgent': 57,\n",
       "         'nokia': 57,\n",
       "         'contact': 56,\n",
       "         'award': 55,\n",
       "         'phone': 52,\n",
       "         'cash': 51,\n",
       "         'pleas': 51,\n",
       "         'week': 49,\n",
       "         'win': 48,\n",
       "         'c': 45,\n",
       "         'collect': 45,\n",
       "         'min': 45,\n",
       "         'custom': 42,\n",
       "         'messag': 42,\n",
       "         'guarante': 42,\n",
       "         'per': 41,\n",
       "         'chat': 38,\n",
       "         'tri': 37,\n",
       "         'msg': 35,\n",
       "         'draw': 35,\n",
       "         'number': 35,\n",
       "         'cs': 35,\n",
       "         'show': 33,\n",
       "         'today': 33,\n",
       "         'offer': 33,\n",
       "         'line': 33,\n",
       "         'go': 32,\n",
       "         'receiv': 31,\n",
       "         'want': 31,\n",
       "         'latest': 30,\n",
       "         'rington': 30,\n",
       "         'landlin': 30,\n",
       "         '150ppm': 29,\n",
       "         'video': 29,\n",
       "         '1': 28,\n",
       "         'voucher': 28,\n",
       "         'code': 27,\n",
       "         'holiday': 27,\n",
       "         'rate': 26,\n",
       "         'network': 26,\n",
       "         'select': 26,\n",
       "         '150p': 26,\n",
       "         'date': 26,\n",
       "         'box': 26,\n",
       "         'day': 26,\n",
       "         'everi': 26,\n",
       "         'appli': 24,\n",
       "         'r': 24,\n",
       "         'cost': 24,\n",
       "         'end': 24,\n",
       "         'po': 24,\n",
       "         'orang': 24,\n",
       "         'await': 24,\n",
       "         'camera': 23,\n",
       "         'chanc': 22,\n",
       "         'charg': 22,\n",
       "         'sm': 22,\n",
       "         'live': 22,\n",
       "         'poli': 22,\n",
       "         'attempt': 22,\n",
       "         'entri': 21,\n",
       "         'word': 21,\n",
       "         'valid': 21,\n",
       "         'find': 21,\n",
       "         '3': 20,\n",
       "         'back': 20,\n",
       "         'uk': 20,\n",
       "         'mob': 20,\n",
       "         '18': 20,\n",
       "         'game': 20,\n",
       "         'weekli': 20,\n",
       "         'pound': 19,\n",
       "         'know': 19,\n",
       "         '500': 19,\n",
       "         'club': 19,\n",
       "         '1st': 19,\n",
       "         '2nd': 19,\n",
       "         '8007': 19,\n",
       "         'pic': 19,\n",
       "         'credit': 18,\n",
       "         'http': 18,\n",
       "         'deliveri': 18,\n",
       "         'account': 18,\n",
       "         'join': 18,\n",
       "         '16': 18,\n",
       "         'sae': 18,\n",
       "         'time': 18,\n",
       "         'bonu': 17,\n",
       "         'wait': 17,\n",
       "         'expir': 17,\n",
       "         'order': 17,\n",
       "         '750': 17,\n",
       "         'unsubscrib': 17,\n",
       "         'wk': 17,\n",
       "         'next': 16,\n",
       "         'thank': 16,\n",
       "         '08000930705': 16,\n",
       "         'special': 16,\n",
       "         '12hr': 16,\n",
       "         'privat': 16,\n",
       "         'see': 16,\n",
       "         'take': 16,\n",
       "         'land': 16,\n",
       "         'dear': 16,\n",
       "         'gift': 16,\n",
       "         'camcord': 15,\n",
       "         'statement': 15,\n",
       "         'point': 15,\n",
       "         'identifi': 15,\n",
       "         'name': 15,\n",
       "         'music': 15,\n",
       "         'xma': 15,\n",
       "         'price': 15,\n",
       "         'enter': 15,\n",
       "         'hi': 15,\n",
       "         'auction': 15,\n",
       "         'final': 14,\n",
       "         'freemsg': 14,\n",
       "         'updat': 14,\n",
       "         'colour': 14,\n",
       "         '100': 14,\n",
       "         'play': 14,\n",
       "         'match': 14,\n",
       "         'top': 14,\n",
       "         'yr': 14,\n",
       "         'sexi': 14,\n",
       "         'content': 14,\n",
       "         '86688': 14,\n",
       "         'winner': 13,\n",
       "         'weekend': 13,\n",
       "         'friend': 13,\n",
       "         'someon': 13,\n",
       "         '10p': 13,\n",
       "         'hot': 13,\n",
       "         'doubl': 13,\n",
       "         'mobileupd8': 13,\n",
       "         '2003': 13,\n",
       "         '800': 13,\n",
       "         'tell': 13,\n",
       "         'like': 12,\n",
       "         'use': 12,\n",
       "         'ye': 12,\n",
       "         'last': 12,\n",
       "         'caller': 12,\n",
       "         'real': 12,\n",
       "         'dog': 12,\n",
       "         'start': 12,\n",
       "         'reveal': 12,\n",
       "         'congratul': 12,\n",
       "         'anytim': 12,\n",
       "         'minut': 12,\n",
       "         'fanci': 12,\n",
       "         '08000839402': 12,\n",
       "         'half': 12,\n",
       "         'help': 12,\n",
       "         'good': 12,\n",
       "         'enjoy': 12,\n",
       "         'info': 11,\n",
       "         'pobox': 11,\n",
       "         'nation': 11,\n",
       "         'eg': 11,\n",
       "         'complimentari': 11,\n",
       "         'oper': 11,\n",
       "         'ltd': 11,\n",
       "         'make': 11,\n",
       "         'think': 11,\n",
       "         'cd': 11,\n",
       "         'current': 11,\n",
       "         'rental': 11,\n",
       "         'import': 11,\n",
       "         'need': 11,\n",
       "         'wan': 11,\n",
       "         'xxx': 10,\n",
       "         'tomorrow': 10,\n",
       "         'follow': 10,\n",
       "         'player': 10,\n",
       "         'sent': 10,\n",
       "         'direct': 10,\n",
       "         'invit': 10,\n",
       "         '87066': 10,\n",
       "         'unlimit': 10,\n",
       "         'easi': 10,\n",
       "         'babe': 10,\n",
       "         'motorola': 10,\n",
       "         'love': 10,\n",
       "         'ipod': 10,\n",
       "         'shop': 10,\n",
       "         'one': 10,\n",
       "         'opt': 10,\n",
       "         'sex': 10,\n",
       "         'na': 10,\n",
       "         'b': 10,\n",
       "         'wkli': 9,\n",
       "         'question': 9,\n",
       "         'reward': 9,\n",
       "         'wap': 9,\n",
       "         'dont': 9,\n",
       "         'year': 9,\n",
       "         '0800': 9,\n",
       "         'quiz': 9,\n",
       "         'age': 9,\n",
       "         'look': 9,\n",
       "         'choos': 9,\n",
       "         '1000': 9,\n",
       "         '150': 9,\n",
       "         'ts': 9,\n",
       "         'subscrib': 9,\n",
       "         'chariti': 9,\n",
       "         'girl': 9,\n",
       "         'inform': 9,\n",
       "         'great': 9,\n",
       "         'comp': 8,\n",
       "         'fun': 8,\n",
       "         'valu': 8,\n",
       "         'miss': 8,\n",
       "         'news': 8,\n",
       "         '87077': 8,\n",
       "         'access': 8,\n",
       "         'x': 8,\n",
       "         'welcom': 8,\n",
       "         'term': 8,\n",
       "         'worth': 8,\n",
       "         'savamob': 8,\n",
       "         'area': 8,\n",
       "         '5': 8,\n",
       "         'mate': 8,\n",
       "         'either': 8,\n",
       "         'bid': 8,\n",
       "         'pl': 8,\n",
       "         'user': 8,\n",
       "         '08712460324': 8,\n",
       "         'lucki': 8,\n",
       "         'give': 8,\n",
       "         'part': 8,\n",
       "         'fantasi': 8,\n",
       "         'england': 7,\n",
       "         '10': 7,\n",
       "         'inc': 7,\n",
       "         'speak': 7,\n",
       "         '2004': 7,\n",
       "         'txting': 7,\n",
       "         'download': 7,\n",
       "         'even': 7,\n",
       "         'secret': 7,\n",
       "         'admir': 7,\n",
       "         'tnc': 7,\n",
       "         'horni': 7,\n",
       "         'sport': 7,\n",
       "         'maxim': 7,\n",
       "         'bluetooth': 7,\n",
       "         'ldn': 7,\n",
       "         'tenerif': 7,\n",
       "         'tc': 7,\n",
       "         'us': 7,\n",
       "         'custcar': 7,\n",
       "         'remov': 7,\n",
       "         '25p': 7,\n",
       "         'gr8': 7,\n",
       "         'fantast': 7,\n",
       "         'best': 7,\n",
       "         'night': 7,\n",
       "         'could': 7,\n",
       "         'summer': 7,\n",
       "         'store': 7,\n",
       "         'ntt': 7,\n",
       "         'log': 7,\n",
       "         'onto': 7,\n",
       "         'n': 7,\n",
       "         'plu': 7,\n",
       "         'bill': 7,\n",
       "         'im': 7,\n",
       "         'detail': 7,\n",
       "         'may': 6,\n",
       "         'std': 6,\n",
       "         'entitl': 6,\n",
       "         'link': 6,\n",
       "         'congrat': 6,\n",
       "         'etc': 6,\n",
       "         'repres': 6,\n",
       "         'flight': 6,\n",
       "         '08712300220': 6,\n",
       "         'quot': 6,\n",
       "         'standard': 6,\n",
       "         'sp': 6,\n",
       "         'handset': 6,\n",
       "         'answer': 6,\n",
       "         'loyalti': 6,\n",
       "         'cc': 6,\n",
       "         'discount': 6,\n",
       "         'first': 6,\n",
       "         'logo': 6,\n",
       "         '40gb': 6,\n",
       "         'member': 6,\n",
       "         'age16': 6,\n",
       "         'spree': 6,\n",
       "         'holder': 6,\n",
       "         'pc': 6,\n",
       "         'b4': 6,\n",
       "         'book': 6,\n",
       "         'extra': 6,\n",
       "         'zed': 6,\n",
       "         'care': 6,\n",
       "         'record': 6,\n",
       "         'asap': 6,\n",
       "         'gay': 6,\n",
       "         'guess': 6,\n",
       "         'digit': 6,\n",
       "         'an': 6,\n",
       "         'luck': 6,\n",
       "         'got': 6,\n",
       "         '0870': 6,\n",
       "         'arriv': 6,\n",
       "         'titl': 6,\n",
       "         'del': 6,\n",
       "         'pick': 6,\n",
       "         'hey': 5,\n",
       "         'still': 5,\n",
       "         'ok': 5,\n",
       "         'month': 5,\n",
       "         'click': 5,\n",
       "         'subscript': 5,\n",
       "         'pass': 5,\n",
       "         'come': 5,\n",
       "         'voda': 5,\n",
       "         'sunshin': 5,\n",
       "         'soni': 5,\n",
       "         'dvd': 5,\n",
       "         'locat': 5,\n",
       "         'bt': 5,\n",
       "         'must': 5,\n",
       "         'local': 5,\n",
       "         'luv': 5,\n",
       "         'frnd': 5,\n",
       "         '62468': 5,\n",
       "         'goto': 5,\n",
       "         'meet': 5,\n",
       "         'partner': 5,\n",
       "         'flirt': 5,\n",
       "         'singl': 5,\n",
       "         'themob': 5,\n",
       "         'keep': 5,\n",
       "         'rcvd': 5,\n",
       "         'sonyericsson': 5,\n",
       "         'eve': 5,\n",
       "         'pobox36504w45wq': 5,\n",
       "         'activ': 5,\n",
       "         'visit': 5,\n",
       "         'mp3': 5,\n",
       "         'sub': 5,\n",
       "         'ring': 5,\n",
       "         'announc': 5,\n",
       "         'guy': 5,\n",
       "         'vodafon': 5,\n",
       "         '80062': 5,\n",
       "         'immedi': 5,\n",
       "         'alert': 5,\n",
       "         'txtauction': 5,\n",
       "         'break': 5,\n",
       "         'no1': 5,\n",
       "         'talk': 5,\n",
       "         '08718720201': 5,\n",
       "         '6': 5,\n",
       "         'regist': 5,\n",
       "         'ask': 5,\n",
       "         'xchat': 5,\n",
       "         'o2': 5,\n",
       "         'surpris': 5,\n",
       "         'readi': 5,\n",
       "         '20p': 5,\n",
       "         '1327': 5,\n",
       "         'croydon': 5,\n",
       "         'cr9': 5,\n",
       "         '5wb': 5,\n",
       "         'reach': 5,\n",
       "         '86021': 5,\n",
       "         'eeri': 5,\n",
       "         'rpli': 5,\n",
       "         'comput': 5,\n",
       "         'fone': 5,\n",
       "         'flag': 5,\n",
       "         'spook': 5,\n",
       "         'tariff': 5,\n",
       "         'cancel': 5,\n",
       "         '3510i': 5,\n",
       "         '300': 5,\n",
       "         'hour': 4,\n",
       "         'v': 4,\n",
       "         'ac': 4,\n",
       "         'correct': 4,\n",
       "         '150pm': 4,\n",
       "         'recent': 4,\n",
       "         'app': 4,\n",
       "         'laid': 4,\n",
       "         'largest': 4,\n",
       "         'ec2a': 4,\n",
       "         'noth': 4,\n",
       "         'netcollex': 4,\n",
       "         'freephon': 4,\n",
       "         '2optout': 4,\n",
       "         'hmv': 4,\n",
       "         'upgrad': 4,\n",
       "         'card': 4,\n",
       "         '4u': 4,\n",
       "         'check': 4,\n",
       "         'decemb': 4,\n",
       "         'refer': 4,\n",
       "         'ad': 4,\n",
       "         'vari': 4,\n",
       "         'post': 4,\n",
       "         '5000': 4,\n",
       "         'cw25wx': 4,\n",
       "         'condit': 4,\n",
       "         '83355': 4,\n",
       "         'mono': 4,\n",
       "         '85023': 4,\n",
       "         'within': 4,\n",
       "         'hello': 4,\n",
       "         'forward': 4,\n",
       "         'polyphon': 4,\n",
       "         'pobox84': 4,\n",
       "         '36504': 4,\n",
       "         'm8': 4,\n",
       "         'ibiza': 4,\n",
       "         'ppm': 4,\n",
       "         'vip': 4,\n",
       "         'sale': 4,\n",
       "         'money': 4,\n",
       "         'away': 4,\n",
       "         'sk38xh': 4,\n",
       "         'contract': 4,\n",
       "         'place': 4,\n",
       "         'deliv': 4,\n",
       "         '08712405020': 4,\n",
       "         'cum': 4,\n",
       "         'xx': 4,\n",
       "         '08707509020': 4,\n",
       "         'linerent': 4,\n",
       "         'optout': 4,\n",
       "         '2nite': 4,\n",
       "         'hope': 4,\n",
       "         'hotel': 4,\n",
       "         '2day': 4,\n",
       "         'brand': 4,\n",
       "         '250': 4,\n",
       "         'london': 4,\n",
       "         'mobi': 4,\n",
       "         'action': 4,\n",
       "         'arcad': 4,\n",
       "         '08001950382': 4,\n",
       "         'would': 4,\n",
       "         'costa': 4,\n",
       "         'sol': 4,\n",
       "         '87239': 4,\n",
       "         'inclus': 4,\n",
       "         'saturday': 4,\n",
       "         'ntwk': 4,\n",
       "         'hit': 4,\n",
       "         'crazi': 4,\n",
       "         'porn': 4,\n",
       "         'mth': 4,\n",
       "         'film': 4,\n",
       "         'santa': 4,\n",
       "         'cup': 3,\n",
       "         '12': 3,\n",
       "         '11': 3,\n",
       "         'co': 3,\n",
       "         'hl': 3,\n",
       "         'review': 3,\n",
       "         'trip': 3,\n",
       "         'hear': 3,\n",
       "         'k52': 3,\n",
       "         '786': 3,\n",
       "         'unredeem': 3,\n",
       "         'tonight': 3,\n",
       "         'tv': 3,\n",
       "         '89545': 3,\n",
       "         'star': 3,\n",
       "         '25': 3,\n",
       "         'recd': 3,\n",
       "         'penc': 3,\n",
       "         'chart': 3,\n",
       "         '0845': 3,\n",
       "         'newest': 3,\n",
       "         'm26': 3,\n",
       "         '3uz': 3,\n",
       "         '08002986906': 3,\n",
       "         'germani': 3,\n",
       "         'via': 3,\n",
       "         'valentin': 3,\n",
       "         '83600': 3,\n",
       "         '11mth': 3,\n",
       "         '87131': 3,\n",
       "         'heart': 3,\n",
       "         '3min': 3,\n",
       "         'close': 3,\n",
       "         'wc1n3xx': 3,\n",
       "         'loan': 3,\n",
       "         'notic': 3,\n",
       "         'ibhltd': 3,\n",
       "         'ldnw15h': 3,\n",
       "         'renew': 3,\n",
       "         'box95qu': 3,\n",
       "         'unsub': 3,\n",
       "         '08715705022': 3,\n",
       "         '542': 3,\n",
       "         'ladi': 3,\n",
       "         'kick': 3,\n",
       "         'euro2004': 3,\n",
       "         'daili': 3,\n",
       "         'postcod': 3,\n",
       "         '20': 3,\n",
       "         'work': 3,\n",
       "         'textoper': 3,\n",
       "         '50': 3,\n",
       "         'listen': 3,\n",
       "         '4t': 3,\n",
       "         'pari': 3,\n",
       "         'citi': 3,\n",
       "         'skilgm': 3,\n",
       "         'ever': 3,\n",
       "         'life': 3,\n",
       "         'w45wq': 3,\n",
       "         '3qxj9': 3,\n",
       "         '9ae': 3,\n",
       "         'alfi': 3,\n",
       "         'moon': 3,\n",
       "         'children': 3,\n",
       "         'song': 3,\n",
       "         '08701417012': 3,\n",
       "         'profit': 3,\n",
       "         'cust': 3,\n",
       "         'five': 3,\n",
       "         '434': 3,\n",
       "         'sk3': 3,\n",
       "         '8wp': 3,\n",
       "         'address': 3,\n",
       "         'male': 3,\n",
       "         'cheap': 3,\n",
       "         'compani': 3,\n",
       "         '3g': 3,\n",
       "         'videophon': 3,\n",
       "         'videochat': 3,\n",
       "         'wid': 3,\n",
       "         'java': 3,\n",
       "         'dload': 3,\n",
       "         'nolin': 3,\n",
       "         'rentl': 3,\n",
       "         'f': 3,\n",
       "         'peopl': 3,\n",
       "         'cant': 3,\n",
       "         'sipix': 3,\n",
       "         'receipt': 3,\n",
       "         'bore': 3,\n",
       "         'yesterday': 3,\n",
       "         'mani': 3,\n",
       "         'let': 3,\n",
       "         'futur': 3,\n",
       "         'jordan': 3,\n",
       "         '84128': 3,\n",
       "         'set': 3,\n",
       "         'jamster': 3,\n",
       "         'origin': 3,\n",
       "         '3gbp': 3,\n",
       "         'photo': 3,\n",
       "         'arsen': 3,\n",
       "         'pod': 3,\n",
       "         'alon': 3,\n",
       "         '09066362231': 3,\n",
       "         '07xxxxxxxxx': 3,\n",
       "         'high': 3,\n",
       "         'shortli': 3,\n",
       "         '7250i': 3,\n",
       "         'stay': 3,\n",
       "         '82242': 3,\n",
       "         'sorri': 3,\n",
       "         'connect': 3,\n",
       "         'ticket': 3,\n",
       "         '18yr': 3,\n",
       "         'abta': 3,\n",
       "         'right': 3,\n",
       "         'person': 3,\n",
       "         'well': 3,\n",
       "         '09050090044': 3,\n",
       "         'toclaim': 3,\n",
       "         'pobox334': 3,\n",
       "         'stockport': 3,\n",
       "         'max10min': 3,\n",
       "         'provid': 3,\n",
       "         'freefon': 3,\n",
       "         'box97n7qp': 3,\n",
       "         'men': 3,\n",
       "         'offici': 3,\n",
       "         'ip4': 3,\n",
       "         '5we': 3,\n",
       "         'cross': 3,\n",
       "         'also': 3,\n",
       "         '88066': 3,\n",
       "         '80082': 3,\n",
       "         'halloween': 3,\n",
       "         'sky': 3,\n",
       "         'adult': 3,\n",
       "         '09066612661': 3,\n",
       "         'sept': 3,\n",
       "         '28': 3,\n",
       "         'king': 3,\n",
       "         'super': 3,\n",
       "         'littl': 3,\n",
       "         '50p': 3,\n",
       "         'deliveredtomorrow': 3,\n",
       "         'save': 3,\n",
       "         'callback': 3,\n",
       "         '200': 3,\n",
       "         '7': 3,\n",
       "         'nat': 3,\n",
       "         'goal': 3,\n",
       "         '30': 3,\n",
       "         'fa': 2,\n",
       "         'tkt': 2,\n",
       "         '87121': 2,\n",
       "         'darl': 2,\n",
       "         'chg': 2,\n",
       "         'rcv': 2,\n",
       "         'six': 2,\n",
       "         'team': 2,\n",
       "         'sptv': 2,\n",
       "         'cinema': 2,\n",
       "         '09061209465': 2,\n",
       "         'suprman': 2,\n",
       "         'matrix3': 2,\n",
       "         'starwars3': 2,\n",
       "         'advis': 2,\n",
       "         'simpli': 2,\n",
       "         'password': 2,\n",
       "         'verifi': 2,\n",
       "         'gent': 2,\n",
       "         '45239': 2,\n",
       "         '350': 2,\n",
       "         'q': 2,\n",
       "         'countri': 2,\n",
       "         'ansr': 2,\n",
       "         'tyron': 2,\n",
       "         '69888': 2,\n",
       "         'hardcor': 2,\n",
       "         'randi': 2,\n",
       "         '08700621170150p': 2,\n",
       "         'arrang': 2,\n",
       "         'uniqu': 2,\n",
       "         'enough': 2,\n",
       "         'august': 2,\n",
       "         'dream': 2,\n",
       "         'soon': 2,\n",
       "         'horo': 2,\n",
       "         'sign': 2,\n",
       "         'sam': 2,\n",
       "         '125gift': 2,\n",
       "         '69698': 2,\n",
       "         'qualiti': 2,\n",
       "         'pay': 2,\n",
       "         'sim': 2,\n",
       "         '021': 2,\n",
       "         'blind': 2,\n",
       "         '82468': 2,\n",
       "         'smart': 2,\n",
       "         'fix': 2,\n",
       "         '0844': 2,\n",
       "         '861': 2,\n",
       "         '85': 2,\n",
       "         'prepay': 2,\n",
       "         'lifetim': 2,\n",
       "         'shag': 2,\n",
       "         'avail': 2,\n",
       "         '4mth': 2,\n",
       "         'mobilesdirect': 2,\n",
       "         '08000938767': 2,\n",
       "         'or2stoptxt': 2,\n",
       "         'true': 2,\n",
       "         'box334sk38ch': 2,\n",
       "         'competit': 2,\n",
       "         '80086': 2,\n",
       "         'lover': 2,\n",
       "         'name1': 2,\n",
       "         'name2': 2,\n",
       "         'mobno': 2,\n",
       "         'adam': 2,\n",
       "         '07123456789': 2,\n",
       "         'yahoo': 2,\n",
       "         'txtno': 2,\n",
       "         'ave': 2,\n",
       "         'purpos': 2,\n",
       "         'tenant': 2,\n",
       "         'refus': 2,\n",
       "         '0207': 2,\n",
       "         '153': 2,\n",
       "         'juli': 2,\n",
       "         'dave': 2,\n",
       "         '09061743806': 2,\n",
       "         'box326': 2,\n",
       "         'cha': 2,\n",
       "         '24hr': 2,\n",
       "         '08718738001': 2,\n",
       "         'web': 2,\n",
       "         'call09050000327': 2,\n",
       "         '2000': 2,\n",
       "         '08712402050': 2,\n",
       "         '10ppm': 2,\n",
       "         'ag': 2,\n",
       "         'promo': 2,\n",
       "         'kept': 2,\n",
       "         'result': 2,\n",
       "         '83222': 2,\n",
       "         'textbuddi': 2,\n",
       "         'search': 2,\n",
       "         '89693': 2,\n",
       "         '40533': 2,\n",
       "         'rstm': 2,\n",
       "         'sw7': 2,\n",
       "         '3ss': 2,\n",
       "         'premium': 2,\n",
       "         'sue': 2,\n",
       "         'old': 2,\n",
       "         '09071512433': 2,\n",
       "         '050703': 2,\n",
       "         'csbcm4235wc1n3xx': 2,\n",
       "         'callcost': 2,\n",
       "         'mobilesvari': 2,\n",
       "         'email': 2,\n",
       "         'nokia6650': 2,\n",
       "         '81151': 2,\n",
       "         'ctxt': 2,\n",
       "         'helplin': 2,\n",
       "         '08706091795': 2,\n",
       "         '40': 2,\n",
       "         'around': 2,\n",
       "         'premier': 2,\n",
       "         '88039': 2,\n",
       "         'tscs087147403231winawk': 2,\n",
       "         '0578': 2,\n",
       "         'commun': 2,\n",
       "         'subpoli': 2,\n",
       "         '08718727870': 2,\n",
       "         'm263uz': 2,\n",
       "         'cashto': 2,\n",
       "         '08000407165': 2,\n",
       "         'getstop': 2,\n",
       "         '88222': 2,\n",
       "         'php': 2,\n",
       "         '08002888812': 2,\n",
       "         'wed': 2,\n",
       "         '09066350750': 2,\n",
       "         'world': 2,\n",
       "         'discreet': 2,\n",
       "         'suppli': 2,\n",
       "         'virgin': 2,\n",
       "         '41685': 2,\n",
       "         'till': 2,\n",
       "         '10k': 2,\n",
       "         'liverpool': 2,\n",
       "         '09058094565': 2,\n",
       "         'remind': 2,\n",
       "         'cheaper': 2,\n",
       "         'peak': 2,\n",
       "         '88600': 2,\n",
       "         'lux': 2,\n",
       "         'filthi': 2,\n",
       "         'valid12hr': 2,\n",
       "         '09063458130': 2,\n",
       "         'polyph': 2,\n",
       "         'somebodi': 2,\n",
       "         'secretli': 2,\n",
       "         'datebox1282essexcm61xn': 2,\n",
       "         'ls15hb': 2,\n",
       "         'euro': 2,\n",
       "         'flower': 2,\n",
       "         '84025': 2,\n",
       "         'lot': 2,\n",
       "         '09050003091': 2,\n",
       "         'c52': 2,\n",
       "         'p': 2,\n",
       "         '09061790121': 2,\n",
       "         'speedchat': 2,\n",
       "         '08000776320': 2,\n",
       "         'wish': 2,\n",
       "         'forget': 2,\n",
       "         'request': 2,\n",
       "         '4fil': 2,\n",
       "         'ralli': 2,\n",
       "         'energi': 2,\n",
       "         'celeb': 2,\n",
       "         'voicemail': 2,\n",
       "         'choic': 2,\n",
       "         '87021': 2,\n",
       "         'txtin': 2,\n",
       "         '4info': 2,\n",
       "         'complet': 2,\n",
       "         'hungri': 2,\n",
       "         'feel': 2,\n",
       "         'lion': 2,\n",
       "         'lionm': 2,\n",
       "         'lionp': 2,\n",
       "         'potter': 2,\n",
       "         'phoenix': 2,\n",
       "         'harri': 2,\n",
       "         'among': 2,\n",
       "         'reader': 2,\n",
       "         'balanc': 2,\n",
       "         'sauci': 2,\n",
       "         'bear': 2,\n",
       "         'upload': 2,\n",
       "         '08718730666': 2,\n",
       "         'textpod': 2,\n",
       "         'clair': 2,\n",
       "         'luci': 2,\n",
       "         'hubbi': 2,\n",
       "         'fri': 2,\n",
       "         'leav': 2,\n",
       "         '80488': 2,\n",
       "         'jsco': 2,\n",
       "         'sing': 2,\n",
       "         '7250': 2,\n",
       "         'british': 2,\n",
       "         'sw73ss': 2,\n",
       "         'dracula': 2,\n",
       "         'ghost': 2,\n",
       "         'addamsfa': 2,\n",
       "         'munster': 2,\n",
       "         'exorcist': 2,\n",
       "         'twilight': 2,\n",
       "         'respons': 2,\n",
       "         'cam': 2,\n",
       "         'msg150p': 2,\n",
       "         '2rcv': 2,\n",
       "         'hlp': 2,\n",
       "         '08712317606': 2,\n",
       "         '08712405022': 2,\n",
       "         'wiv': 2,\n",
       "         'marri': 2,\n",
       "         '81303': 2,\n",
       "         'hard': 2,\n",
       "         '121': 2,\n",
       "         'biggest': 2,\n",
       "         'wow': 2,\n",
       "         'boy': 2,\n",
       "         '2007': 2,\n",
       "         'tour': 2,\n",
       "         'chosen': 2,\n",
       "         'bahama': 2,\n",
       "         'buy': 2,\n",
       "         'press': 2,\n",
       "         '0': 2,\n",
       "         'purchas': 2,\n",
       "         'big': 2,\n",
       "         'excit': 2,\n",
       "         '3100': 2,\n",
       "         'straight': 2,\n",
       "         'wet': 2,\n",
       "         '89555': 2,\n",
       "         'g696ga': 2,\n",
       "         'pm': 2,\n",
       "         'upto': 2,\n",
       "         '12mth': 2,\n",
       "         '0776xxxxxxx': 2,\n",
       "         '326': 2,\n",
       "         'total': 2,\n",
       "         '80182': 2,\n",
       "         '08452810073': 2,\n",
       "         '09066358152': 2,\n",
       "         'prompt': 2,\n",
       "         'mind': 2,\n",
       "         'done': 2,\n",
       "         '61610': 2,\n",
       "         'yo': 2,\n",
       "         'tsc': 2,\n",
       "         'aom': 2,\n",
       "         'gender': 2,\n",
       "         'yer': 2,\n",
       "         'eng': 2,\n",
       "         'box39822': 2,\n",
       "         'w111wx': 2,\n",
       "         'hol': 2,\n",
       "         'med': 2,\n",
       "         'satisfi': 2,\n",
       "         'home': 2,\n",
       "         'pix': 2,\n",
       "         'ref': 2,\n",
       "         'respond': 2,\n",
       "         '300p': 2,\n",
       "         'heard': 2,\n",
       "         'u4': 2,\n",
       "         'rude': 2,\n",
       "         '8552': 2,\n",
       "         '88877': 2,\n",
       "         'lost': 2,\n",
       "         'upd8': 2,\n",
       "         '21870000': 2,\n",
       "         'mailbox': 2,\n",
       "         '09056242159': 2,\n",
       "         'retriev': 2,\n",
       "         'pub': 2,\n",
       "         'street': 2,\n",
       "         'duchess': 2,\n",
       "         'cornwal': 2,\n",
       "         '008704050406': 2,\n",
       "         '08701417012150p': 2,\n",
       "         'score': 2,\n",
       "         'town': 2,\n",
       "         'babi': 2,\n",
       "         'thing': 2,\n",
       "         'slo': 2,\n",
       "         '24': 2,\n",
       "         'acl03530150pm': 2,\n",
       "         'brought': 2,\n",
       "         'bx420': 2,\n",
       "         'amaz': 2,\n",
       "         'picsfree1': 2,\n",
       "         'instruct': 2,\n",
       "         'knock': 2,\n",
       "         'norm': 2,\n",
       "         '69696': 2,\n",
       "         'nyt': 2,\n",
       "         '3lp': 2,\n",
       "         'includ': 2,\n",
       "         'fastest': 2,\n",
       "         'grow': 2,\n",
       "         '2stoptxt': 2,\n",
       "         'luxuri': 2,\n",
       "         'canari': 2,\n",
       "         'island': 2,\n",
       "         'burger': 2,\n",
       "         'interflora': 2,\n",
       "         'everyon': 2,\n",
       "         'sinc': 2,\n",
       "         'warm': 2,\n",
       "         'bring': 2,\n",
       "         'sound': 2,\n",
       "         '88888': 2,\n",
       "         'realiti': 2,\n",
       "         'yet': 2,\n",
       "         'drive': 2,\n",
       "         'improv': 2,\n",
       "         'lotr': 2,\n",
       "         '08708034412': 2,\n",
       "         'lookatm': 2,\n",
       "         '09061221066': 2,\n",
       "         'fromm': 2,\n",
       "         'pobox45w2tg150p': 2,\n",
       "         'truli': 2,\n",
       "         'wo': 2,\n",
       "         'movi': 2,\n",
       "         'bank': 2,\n",
       "         'granit': 2,\n",
       "         'issu': 2,\n",
       "         'explos': 2,\n",
       "         'nasdaq': 2,\n",
       "         'symbol': 2,\n",
       "         'cdgt': 2,\n",
       "         'thur': 2,\n",
       "         'sat': 2,\n",
       "         'unabl': 2,\n",
       "         'class': 2,\n",
       "         'iscom': 2,\n",
       "         'blu': 2,\n",
       "         'wml': 2,\n",
       "         '09061743386': 2,\n",
       "         'spanish': 2,\n",
       "         'indic': 2,\n",
       "         'accid': 2,\n",
       "         '2find': 2,\n",
       "         'anoth': 2,\n",
       "         'polo': 2,\n",
       "         'suit': 2,\n",
       "         '373': 2,\n",
       "         'w1j': 2,\n",
       "         '6hl': 2,\n",
       "         'busi': 2,\n",
       "         'explicit': 2,\n",
       "         'sec': 2,\n",
       "         '02073162414': 2,\n",
       "         '89070': 2,\n",
       "         'mnth': 2,\n",
       "         '86888': 2,\n",
       "         '3hr': 2,\n",
       "         'txtstop': 2,\n",
       "         ...})"
      ]
     },
     "execution_count": 55,
     "metadata": {},
     "output_type": "execute_result"
    }
   ],
   "source": [
    "# The counter will create a dictionary give the count of each word as a value\n",
    "from collections import Counter\n",
    "Counter(spam_corpus)"
   ]
  },
  {
   "cell_type": "code",
   "execution_count": 56,
   "id": "d3892978",
   "metadata": {},
   "outputs": [
    {
     "data": {
      "text/plain": [
       "[('call', 320),\n",
       " ('free', 191),\n",
       " ('2', 155),\n",
       " ('txt', 141),\n",
       " ('text', 122),\n",
       " ('u', 119),\n",
       " ('ur', 119),\n",
       " ('mobil', 114),\n",
       " ('stop', 104),\n",
       " ('repli', 103),\n",
       " ('claim', 98),\n",
       " ('4', 97),\n",
       " ('prize', 82),\n",
       " ('get', 74),\n",
       " ('new', 64),\n",
       " ('servic', 64),\n",
       " ('tone', 63),\n",
       " ('send', 60),\n",
       " ('urgent', 57),\n",
       " ('nokia', 57),\n",
       " ('contact', 56),\n",
       " ('award', 55),\n",
       " ('phone', 52),\n",
       " ('cash', 51),\n",
       " ('pleas', 51),\n",
       " ('week', 49),\n",
       " ('win', 48),\n",
       " ('c', 45),\n",
       " ('collect', 45),\n",
       " ('min', 45)]"
      ]
     },
     "execution_count": 56,
     "metadata": {},
     "output_type": "execute_result"
    }
   ],
   "source": [
    "Counter(spam_corpus).most_common(30)"
   ]
  },
  {
   "cell_type": "code",
   "execution_count": 57,
   "id": "825edc93",
   "metadata": {},
   "outputs": [
    {
     "data": {
      "text/html": [
       "<div>\n",
       "<style scoped>\n",
       "    .dataframe tbody tr th:only-of-type {\n",
       "        vertical-align: middle;\n",
       "    }\n",
       "\n",
       "    .dataframe tbody tr th {\n",
       "        vertical-align: top;\n",
       "    }\n",
       "\n",
       "    .dataframe thead th {\n",
       "        text-align: right;\n",
       "    }\n",
       "</style>\n",
       "<table border=\"1\" class=\"dataframe\">\n",
       "  <thead>\n",
       "    <tr style=\"text-align: right;\">\n",
       "      <th></th>\n",
       "      <th>0</th>\n",
       "      <th>1</th>\n",
       "    </tr>\n",
       "  </thead>\n",
       "  <tbody>\n",
       "    <tr>\n",
       "      <th>0</th>\n",
       "      <td>call</td>\n",
       "      <td>320</td>\n",
       "    </tr>\n",
       "    <tr>\n",
       "      <th>1</th>\n",
       "      <td>free</td>\n",
       "      <td>191</td>\n",
       "    </tr>\n",
       "    <tr>\n",
       "      <th>2</th>\n",
       "      <td>2</td>\n",
       "      <td>155</td>\n",
       "    </tr>\n",
       "    <tr>\n",
       "      <th>3</th>\n",
       "      <td>txt</td>\n",
       "      <td>141</td>\n",
       "    </tr>\n",
       "    <tr>\n",
       "      <th>4</th>\n",
       "      <td>text</td>\n",
       "      <td>122</td>\n",
       "    </tr>\n",
       "    <tr>\n",
       "      <th>5</th>\n",
       "      <td>u</td>\n",
       "      <td>119</td>\n",
       "    </tr>\n",
       "    <tr>\n",
       "      <th>6</th>\n",
       "      <td>ur</td>\n",
       "      <td>119</td>\n",
       "    </tr>\n",
       "    <tr>\n",
       "      <th>7</th>\n",
       "      <td>mobil</td>\n",
       "      <td>114</td>\n",
       "    </tr>\n",
       "    <tr>\n",
       "      <th>8</th>\n",
       "      <td>stop</td>\n",
       "      <td>104</td>\n",
       "    </tr>\n",
       "    <tr>\n",
       "      <th>9</th>\n",
       "      <td>repli</td>\n",
       "      <td>103</td>\n",
       "    </tr>\n",
       "    <tr>\n",
       "      <th>10</th>\n",
       "      <td>claim</td>\n",
       "      <td>98</td>\n",
       "    </tr>\n",
       "    <tr>\n",
       "      <th>11</th>\n",
       "      <td>4</td>\n",
       "      <td>97</td>\n",
       "    </tr>\n",
       "    <tr>\n",
       "      <th>12</th>\n",
       "      <td>prize</td>\n",
       "      <td>82</td>\n",
       "    </tr>\n",
       "    <tr>\n",
       "      <th>13</th>\n",
       "      <td>get</td>\n",
       "      <td>74</td>\n",
       "    </tr>\n",
       "    <tr>\n",
       "      <th>14</th>\n",
       "      <td>new</td>\n",
       "      <td>64</td>\n",
       "    </tr>\n",
       "    <tr>\n",
       "      <th>15</th>\n",
       "      <td>servic</td>\n",
       "      <td>64</td>\n",
       "    </tr>\n",
       "    <tr>\n",
       "      <th>16</th>\n",
       "      <td>tone</td>\n",
       "      <td>63</td>\n",
       "    </tr>\n",
       "    <tr>\n",
       "      <th>17</th>\n",
       "      <td>send</td>\n",
       "      <td>60</td>\n",
       "    </tr>\n",
       "    <tr>\n",
       "      <th>18</th>\n",
       "      <td>urgent</td>\n",
       "      <td>57</td>\n",
       "    </tr>\n",
       "    <tr>\n",
       "      <th>19</th>\n",
       "      <td>nokia</td>\n",
       "      <td>57</td>\n",
       "    </tr>\n",
       "    <tr>\n",
       "      <th>20</th>\n",
       "      <td>contact</td>\n",
       "      <td>56</td>\n",
       "    </tr>\n",
       "    <tr>\n",
       "      <th>21</th>\n",
       "      <td>award</td>\n",
       "      <td>55</td>\n",
       "    </tr>\n",
       "    <tr>\n",
       "      <th>22</th>\n",
       "      <td>phone</td>\n",
       "      <td>52</td>\n",
       "    </tr>\n",
       "    <tr>\n",
       "      <th>23</th>\n",
       "      <td>cash</td>\n",
       "      <td>51</td>\n",
       "    </tr>\n",
       "    <tr>\n",
       "      <th>24</th>\n",
       "      <td>pleas</td>\n",
       "      <td>51</td>\n",
       "    </tr>\n",
       "    <tr>\n",
       "      <th>25</th>\n",
       "      <td>week</td>\n",
       "      <td>49</td>\n",
       "    </tr>\n",
       "    <tr>\n",
       "      <th>26</th>\n",
       "      <td>win</td>\n",
       "      <td>48</td>\n",
       "    </tr>\n",
       "    <tr>\n",
       "      <th>27</th>\n",
       "      <td>c</td>\n",
       "      <td>45</td>\n",
       "    </tr>\n",
       "    <tr>\n",
       "      <th>28</th>\n",
       "      <td>collect</td>\n",
       "      <td>45</td>\n",
       "    </tr>\n",
       "    <tr>\n",
       "      <th>29</th>\n",
       "      <td>min</td>\n",
       "      <td>45</td>\n",
       "    </tr>\n",
       "  </tbody>\n",
       "</table>\n",
       "</div>"
      ],
      "text/plain": [
       "          0    1\n",
       "0      call  320\n",
       "1      free  191\n",
       "2         2  155\n",
       "3       txt  141\n",
       "4      text  122\n",
       "5         u  119\n",
       "6        ur  119\n",
       "7     mobil  114\n",
       "8      stop  104\n",
       "9     repli  103\n",
       "10    claim   98\n",
       "11        4   97\n",
       "12    prize   82\n",
       "13      get   74\n",
       "14      new   64\n",
       "15   servic   64\n",
       "16     tone   63\n",
       "17     send   60\n",
       "18   urgent   57\n",
       "19    nokia   57\n",
       "20  contact   56\n",
       "21    award   55\n",
       "22    phone   52\n",
       "23     cash   51\n",
       "24    pleas   51\n",
       "25     week   49\n",
       "26      win   48\n",
       "27        c   45\n",
       "28  collect   45\n",
       "29      min   45"
      ]
     },
     "execution_count": 57,
     "metadata": {},
     "output_type": "execute_result"
    }
   ],
   "source": [
    "# Adding these in a  data frame\n",
    "pd.DataFrame(Counter(spam_corpus).most_common(30))"
   ]
  },
  {
   "cell_type": "code",
   "execution_count": 58,
   "id": "1dc56d07",
   "metadata": {},
   "outputs": [],
   "source": [
    "df_most_common_spam=pd.DataFrame(Counter(spam_corpus).most_common(30))"
   ]
  },
  {
   "cell_type": "code",
   "execution_count": 59,
   "id": "2b61bf17",
   "metadata": {},
   "outputs": [
    {
     "data": {
      "image/png": "[encoded data removed]",
      "text/plain": [
       "<Figure size 640x480 with 1 Axes>"
      ]
     },
     "metadata": {},
     "output_type": "display_data"
    }
   ],
   "source": [
    "sns.barplot(x=df_most_common_spam[0],y=df_most_common_spam[1])\n",
    "plt.xticks(rotation='vertical')\n",
    "plt.show()"
   ]
  },
  {
   "cell_type": "code",
   "execution_count": 60,
   "id": "515ed6b1",
   "metadata": {},
   "outputs": [],
   "source": [
    "ham_corpus=[]\n",
    "for msg in df[df['target']==0]['transformed_text'].tolist():\n",
    "    for word in msg.split():\n",
    "        ham_corpus.append(word)"
   ]
  },
  {
   "cell_type": "code",
   "execution_count": 61,
   "id": "012c64c1",
   "metadata": {},
   "outputs": [
    {
     "data": {
      "text/plain": [
       "35404"
      ]
     },
     "execution_count": 61,
     "metadata": {},
     "output_type": "execute_result"
    }
   ],
   "source": [
    "len(ham_corpus)"
   ]
  },
  {
   "cell_type": "code",
   "execution_count": 62,
   "id": "91d551f3",
   "metadata": {},
   "outputs": [
    {
     "data": {
      "text/plain": [
       "[('u', 883),\n",
       " ('go', 404),\n",
       " ('get', 349),\n",
       " ('gt', 288),\n",
       " ('lt', 287),\n",
       " ('2', 284),\n",
       " ('come', 275),\n",
       " ('got', 236),\n",
       " ('know', 236),\n",
       " ('like', 234),\n",
       " ('call', 233),\n",
       " ('time', 219),\n",
       " ('ok', 217),\n",
       " ('love', 216),\n",
       " ('good', 213),\n",
       " ('want', 208),\n",
       " ('ur', 197),\n",
       " ('day', 190),\n",
       " ('need', 170),\n",
       " ('one', 165),\n",
       " ('lor', 159),\n",
       " ('4', 156),\n",
       " ('home', 152),\n",
       " ('think', 149),\n",
       " ('see', 147),\n",
       " ('take', 143),\n",
       " ('still', 143),\n",
       " ('da', 142),\n",
       " ('tell', 133),\n",
       " ('make', 129)]"
      ]
     },
     "execution_count": 62,
     "metadata": {},
     "output_type": "execute_result"
    }
   ],
   "source": [
    "Counter(ham_corpus).most_common(30)"
   ]
  },
  {
   "cell_type": "code",
   "execution_count": 63,
   "id": "8b45a840",
   "metadata": {},
   "outputs": [],
   "source": [
    "df_most_common_ham=pd.DataFrame(Counter(ham_corpus).most_common(30))"
   ]
  },
  {
   "cell_type": "code",
   "execution_count": 64,
   "id": "9308b3c2",
   "metadata": {},
   "outputs": [
    {
     "data": {
      "image/png": "[encoded data removed]",
      "text/plain": [
       "<Figure size 640x480 with 1 Axes>"
      ]
     },
     "metadata": {},
     "output_type": "display_data"
    }
   ],
   "source": [
    "sns.barplot(x=df_most_common_ham[0],y=df_most_common_ham[1])\n",
    "plt.xticks(rotation='vertical')\n",
    "plt.show()"
   ]
  },
  {
   "cell_type": "markdown",
   "id": "a6e69eb8",
   "metadata": {},
   "source": [
    "## 4. MODEL BUILDING"
   ]
  },
  {
   "cell_type": "code",
   "execution_count": 65,
   "id": "485a8c24",
   "metadata": {},
   "outputs": [],
   "source": [
    "# We will be using naive bayes algorithm. It is said to be the most effective algo for textual data.\n",
    "# As the numerical value if needed for naive bayes to perform mathematical operation.\n",
    "# We will convert text into vectors"
   ]
  },
  {
   "cell_type": "code",
   "execution_count": 66,
   "id": "4bd6f8e9",
   "metadata": {},
   "outputs": [],
   "source": [
    "from sklearn.feature_extraction.text import CountVectorizer,TfidfVectorizer\n",
    "#Convert a collection of text documents to a matrix of token counts.\n",
    "cv = CountVectorizer()\n",
    "#Convert a collection of raw documents to a matrix of TF-IDF features.\n",
    "tfid=TfidfVectorizer()"
   ]
  },
  {
   "cell_type": "code",
   "execution_count": 67,
   "id": "08dae31f",
   "metadata": {},
   "outputs": [],
   "source": [
    "X = cv.fit_transform(df['transformed_text']).toarray()"
   ]
  },
  {
   "cell_type": "code",
   "execution_count": 68,
   "id": "440d788d",
   "metadata": {},
   "outputs": [
    {
     "data": {
      "text/plain": [
       "(5169, 6708)"
      ]
     },
     "execution_count": 68,
     "metadata": {},
     "output_type": "execute_result"
    }
   ],
   "source": [
    "X.shape"
   ]
  },
  {
   "cell_type": "code",
   "execution_count": 69,
   "id": "3d42882b",
   "metadata": {},
   "outputs": [],
   "source": [
    "y = df['target'].values"
   ]
  },
  {
   "cell_type": "code",
   "execution_count": 70,
   "id": "c538cc02",
   "metadata": {},
   "outputs": [
    {
     "name": "stdout",
     "output_type": "stream",
     "text": [
      "[0 0 1 ... 0 0 0]\n",
      "(5169,)\n"
     ]
    }
   ],
   "source": [
    "print(y)\n",
    "print(y.shape)"
   ]
  },
  {
   "cell_type": "code",
   "execution_count": 71,
   "id": "c6ef6991",
   "metadata": {},
   "outputs": [],
   "source": [
    "from sklearn.model_selection import train_test_split\n",
    "X_train,X_test,y_train,y_test = train_test_split(X,y,test_size=0.2,random_state=2)"
   ]
  },
  {
   "cell_type": "code",
   "execution_count": 72,
   "id": "2a3ee9c4",
   "metadata": {},
   "outputs": [],
   "source": [
    "from sklearn.naive_bayes import GaussianNB,MultinomialNB,BernoulliNB\n",
    "from sklearn.metrics import accuracy_score,confusion_matrix,precision_score\n",
    "gnb = GaussianNB()\n",
    "mnb=MultinomialNB()\n",
    "bnb=BernoulliNB()"
   ]
  },
  {
   "cell_type": "code",
   "execution_count": 73,
   "id": "86475ea2",
   "metadata": {},
   "outputs": [],
   "source": [
    "# gnb.fit(X_train,y_train)\n",
    "# y_pred1=gnb.predict(X_test)\n",
    "# print(accuracy_score(y_test,y_pred1))\n",
    "# print(confusion_matrix(y_test,y_pred1))\n",
    "# print(precision_score(y_test,y_pred1))"
   ]
  },
  {
   "cell_type": "code",
   "execution_count": 74,
   "id": "3d1be32e",
   "metadata": {},
   "outputs": [],
   "source": [
    "# mnb.fit(X_train,y_train)\n",
    "# y_pred2=mnb.predict(X_test)\n",
    "# print(accuracy_score(y_test,y_pred2))\n",
    "# print(confusion_matrix(y_test,y_pred2))\n",
    "# print(precision_score(y_test,y_pred2))"
   ]
  },
  {
   "cell_type": "code",
   "execution_count": 75,
   "id": "b0732bbf",
   "metadata": {},
   "outputs": [],
   "source": [
    "# bnb.fit(X_train,y_train)\n",
    "# y_pred3=bnb.predict(X_test)\n",
    "# print(accuracy_score(y_test,y_pred3))\n",
    "# print(confusion_matrix(y_test,y_pred3))\n",
    "# print(precision_score(y_test,y_pred3))"
   ]
  },
  {
   "cell_type": "code",
   "execution_count": 76,
   "id": "b6b16f4b",
   "metadata": {},
   "outputs": [],
   "source": [
    "# USING TFIDF "
   ]
  },
  {
   "cell_type": "code",
   "execution_count": 77,
   "id": "751b5514",
   "metadata": {},
   "outputs": [],
   "source": [
    "# Xf=tfid.fit_transform(df['transformed_text']).toarray()"
   ]
  },
  {
   "cell_type": "code",
   "execution_count": 78,
   "id": "a2107ce5",
   "metadata": {},
   "outputs": [],
   "source": [
    "# y = df['target'].values"
   ]
  },
  {
   "cell_type": "code",
   "execution_count": 79,
   "id": "b842f3c5",
   "metadata": {},
   "outputs": [],
   "source": [
    "# X_trainf,X_testf,y_trainf,y_testf = train_test_split(Xf,y,test_size=0.2,random_state=2)"
   ]
  },
  {
   "cell_type": "code",
   "execution_count": 80,
   "id": "7bbd615f",
   "metadata": {},
   "outputs": [],
   "source": [
    "# gnb.fit(X_trainf,y_trainf)\n",
    "# y_pred1=gnb.predict(X_testf)\n",
    "# print(accuracy_score(y_testf,y_pred1))\n",
    "# print(confusion_matrix(y_testf,y_pred1))\n",
    "# print(precision_score(y_testf,y_pred1))"
   ]
  },
  {
   "cell_type": "code",
   "execution_count": 81,
   "id": "8af38d96",
   "metadata": {},
   "outputs": [],
   "source": [
    "# mnb.fit(X_trainf,y_trainf)\n",
    "# y_pred2=mnb.predict(X_testf)\n",
    "# print(accuracy_score(y_testf,y_pred2))\n",
    "# print(confusion_matrix(y_testf,y_pred2))\n",
    "# print(precision_score(y_testf,y_pred2))"
   ]
  },
  {
   "cell_type": "code",
   "execution_count": 82,
   "id": "59f252d0",
   "metadata": {},
   "outputs": [],
   "source": [
    "# bnb.fit(X_trainf,y_trainf)\n",
    "# y_pred3=bnb.predict(X_testf)\n",
    "# print(accuracy_score(y_testf,y_pred3))\n",
    "# print(confusion_matrix(y_testf,y_pred3))\n",
    "# print(precision_score(y_testf,y_pred3))"
   ]
  },
  {
   "cell_type": "code",
   "execution_count": 83,
   "id": "26d887fb",
   "metadata": {},
   "outputs": [],
   "source": [
    "# We will go with multinomial naive bayes on  tfidf vectorizer. \n",
    "#The metric of consideration will be precison as tha data is imbalanced. SO the precision will matter the most."
   ]
  },
  {
   "cell_type": "markdown",
   "id": "d4b503d7",
   "metadata": {},
   "source": [
    "## IMPROVING THE MODEL"
   ]
  },
  {
   "cell_type": "code",
   "execution_count": 84,
   "id": "2531331e",
   "metadata": {},
   "outputs": [],
   "source": [
    "# pip install xgboost"
   ]
  },
  {
   "cell_type": "code",
   "execution_count": 85,
   "id": "367a0f31",
   "metadata": {},
   "outputs": [],
   "source": [
    "# from sklearn.linear_model import LogisticRegression\n",
    "# from sklearn.svm import SVC\n",
    "# from sklearn.naive_bayes import MultinomialNB\n",
    "# from sklearn.tree import DecisionTreeClassifier\n",
    "# from sklearn.neighbors import KNeighborsClassifier\n",
    "# from sklearn.ensemble import RandomForestClassifier\n",
    "# from sklearn.ensemble import AdaBoostClassifier\n",
    "# from sklearn.ensemble import BaggingClassifier\n",
    "# from sklearn.ensemble import ExtraTreesClassifier\n",
    "# from sklearn.ensemble import GradientBoostingClassifier\n",
    "# from xgboost import XGBClassifier"
   ]
  },
  {
   "cell_type": "code",
   "execution_count": 86,
   "id": "fcddf7ca",
   "metadata": {},
   "outputs": [],
   "source": [
    "# svc = SVC(kernel='sigmoid', gamma=1.0)\n",
    "# # knc = KNeighborsClassifier()\n",
    "# mnb = MultinomialNB()\n",
    "# dtc = DecisionTreeClassifier(max_depth=5)\n",
    "# lrc = LogisticRegression(solver='liblinear', penalty='l1')\n",
    "# rfc = RandomForestClassifier(n_estimators=50, random_state=2)\n",
    "# abc = AdaBoostClassifier(n_estimators=50, random_state=2)\n",
    "# bc = BaggingClassifier(n_estimators=50, random_state=2)\n",
    "# etc = ExtraTreesClassifier(n_estimators=50, random_state=2)\n",
    "# gbdt = GradientBoostingClassifier(n_estimators=50,random_state=2)\n",
    "# xgb = XGBClassifier(n_estimators=50,random_state=2)"
   ]
  },
  {
   "cell_type": "code",
   "execution_count": 87,
   "id": "37193ed3",
   "metadata": {},
   "outputs": [],
   "source": [
    "# #Classifiers\n",
    "# clfs = {\n",
    "#     'SVC' : svc,\n",
    "#     'NB': mnb, \n",
    "#     'DT': dtc, \n",
    "#     'LR': lrc, \n",
    "#     'RF': rfc, \n",
    "#     'AdaBoost': abc, \n",
    "#     'BgC': bc, \n",
    "#     'ETC': etc,\n",
    "#     'GBDT':gbdt,\n",
    "#     'xgb':xgb\n",
    "# }\n"
   ]
  },
  {
   "cell_type": "code",
   "execution_count": 88,
   "id": "43b305ab",
   "metadata": {},
   "outputs": [],
   "source": [
    "# # Function to train a model\n",
    "# def train_classifier(clf,X_train,y_train,X_test,y_test):\n",
    "#     clf.fit(X_train,y_train)\n",
    "#     y_pred = clf.predict(X_test)\n",
    "#     accuracy = accuracy_score(y_test,y_pred)\n",
    "#     precision = precision_score(y_test,y_pred)\n",
    "    \n",
    "#     return accuracy,precision"
   ]
  },
  {
   "cell_type": "code",
   "execution_count": 89,
   "id": "476cfa6f",
   "metadata": {},
   "outputs": [],
   "source": [
    "# #Let's train on svc\n",
    "# train_classifier(svc,X_train,y_train,X_test,y_test)"
   ]
  },
  {
   "cell_type": "code",
   "execution_count": 90,
   "id": "d806a47b",
   "metadata": {},
   "outputs": [],
   "source": [
    "# Accuracy and precision score for each model in clfs\n",
    "# accuracy_scores = []\n",
    "# precision_scores = []\n",
    "\n",
    "# for name,clf in clfs.items():\n",
    "    \n",
    "#     current_accuracy,current_precision = train_classifier(clf, X_train,y_train,X_test,y_test)\n",
    "    \n",
    "#     print(\"For \",name)\n",
    "#     print(\"Accuracy - \",current_accuracy)\n",
    "#     print(\"Precision - \",current_precision)\n",
    "    \n",
    "#     accuracy_scores.append(current_accuracy)\n",
    "#     precision_scores.append(current_precision)"
   ]
  },
  {
   "cell_type": "code",
   "execution_count": 91,
   "id": "051ba6cd",
   "metadata": {},
   "outputs": [],
   "source": [
    "# #Storing them in a data frame\n",
    "# performance_df = pd.DataFrame({'Algorithm':clfs.keys(),'Accuracy':accuracy_scores,'Precision':precision_scores}).sort_values('Precision',ascending=False)"
   ]
  },
  {
   "cell_type": "markdown",
   "id": "db03349e",
   "metadata": {},
   "source": [
    "## max_features =3000 on tfidf for improved result"
   ]
  },
  {
   "cell_type": "code",
   "execution_count": 92,
   "id": "a8be2079",
   "metadata": {},
   "outputs": [],
   "source": [
    "tfidf=TfidfVectorizer(max_features=3000)\n",
    "Xmf=tfidf.fit_transform(df['transformed_text']).toarray()\n",
    "y = df['target'].values\n",
    "X_trainmf,X_testmf,y_trainmf,y_testmf = train_test_split(Xmf,y,test_size=0.2,random_state=2)"
   ]
  },
  {
   "cell_type": "code",
   "execution_count": 93,
   "id": "4e9dade7",
   "metadata": {},
   "outputs": [
    {
     "name": "stdout",
     "output_type": "stream",
     "text": [
      "0.8694390715667312\n",
      "[[788 108]\n",
      " [ 27 111]]\n",
      "0.5068493150684932\n"
     ]
    }
   ],
   "source": [
    "gnb.fit(X_trainmf,y_trainmf)\n",
    "y_pred1=gnb.predict(X_testmf)\n",
    "print(accuracy_score(y_testmf,y_pred1))\n",
    "print(confusion_matrix(y_testmf,y_pred1))\n",
    "print(precision_score(y_testmf,y_pred1))"
   ]
  },
  {
   "cell_type": "code",
   "execution_count": 94,
   "id": "551cbff8",
   "metadata": {},
   "outputs": [
    {
     "name": "stdout",
     "output_type": "stream",
     "text": [
      "0.9709864603481625\n",
      "[[896   0]\n",
      " [ 30 108]]\n",
      "1.0\n"
     ]
    }
   ],
   "source": [
    "mnb.fit(X_trainmf,y_trainmf)\n",
    "y_pred1=mnb.predict(X_testmf)\n",
    "print(accuracy_score(y_testmf,y_pred1))\n",
    "print(confusion_matrix(y_testmf,y_pred1))\n",
    "print(precision_score(y_testmf,y_pred1))"
   ]
  },
  {
   "cell_type": "code",
   "execution_count": 95,
   "id": "aef33f28",
   "metadata": {},
   "outputs": [
    {
     "name": "stdout",
     "output_type": "stream",
     "text": [
      "0.9835589941972921\n",
      "[[895   1]\n",
      " [ 16 122]]\n",
      "0.991869918699187\n"
     ]
    }
   ],
   "source": [
    "bnb.fit(X_trainmf,y_trainmf)\n",
    "y_pred1=bnb.predict(X_testmf)\n",
    "print(accuracy_score(y_testmf,y_pred1))\n",
    "print(confusion_matrix(y_testmf,y_pred1))\n",
    "print(precision_score(y_testmf,y_pred1))"
   ]
  },
  {
   "cell_type": "markdown",
   "id": "df75dd3c",
   "metadata": {},
   "source": [
    "The accuracy of mnb is imporved after using max_feature hyperparameter in tfdif. This is the most suitable model as it has better accuracy and a precision of 1."
   ]
  },
  {
   "cell_type": "code",
   "execution_count": 96,
   "id": "343edded",
   "metadata": {},
   "outputs": [],
   "source": [
    "#These lines save the trained TF-IDF vectorizer (tfidf) and the trained machine learning model (mnd)\n",
    "#to files so that they can be reused later without having to retrain or recreate them.\n",
    "import pickle\n",
    "pickle.dump(tfidf,open('vectorizer.pkl','wb'))\n",
    "pickle.dump(mnb,open('model.pkl','wb')) # wb: binary mode"
   ]
  },
  {
   "cell_type": "code",
   "execution_count": null,
   "id": "ba487e09",
   "metadata": {},
   "outputs": [],
   "source": []
  }
 ],
 "metadata": {
  "kernelspec": {
   "display_name": "Python 3 (ipykernel)",
   "language": "python",
   "name": "python3"
  },
  "language_info": {
   "codemirror_mode": {
    "name": "ipython",
    "version": 3
   },
   "file_extension": ".py",
   "mimetype": "text/x-python",
   "name": "python",
   "nbconvert_exporter": "python",
   "pygments_lexer": "ipython3",
   "version": "3.11.5"
  }
 },
 "nbformat": 4,
 "nbformat_minor": 5
}
